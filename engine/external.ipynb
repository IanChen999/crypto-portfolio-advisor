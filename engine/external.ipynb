{
 "cells": [
  {
   "cell_type": "code",
   "execution_count": 11,
   "id": "4b74c97d",
   "metadata": {},
   "outputs": [
    {
     "name": "stdout",
     "output_type": "stream",
     "text": [
      "Requirement already satisfied: seaborn in /usr/local/lib/python3.9/site-packages (0.11.2)\n",
      "Requirement already satisfied: matplotlib>=2.2 in /usr/local/lib/python3.9/site-packages (from seaborn) (3.4.3)\n",
      "Requirement already satisfied: numpy>=1.15 in /usr/local/lib/python3.9/site-packages (from seaborn) (1.19.5)\n",
      "Requirement already satisfied: scipy>=1.0 in /usr/local/lib/python3.9/site-packages (from seaborn) (1.7.1)\n",
      "Requirement already satisfied: pandas>=0.23 in /usr/local/lib/python3.9/site-packages (from seaborn) (1.2.1)\n",
      "Requirement already satisfied: pyparsing>=2.2.1 in /usr/local/lib/python3.9/site-packages (from matplotlib>=2.2->seaborn) (2.4.7)\n",
      "Requirement already satisfied: kiwisolver>=1.0.1 in /usr/local/lib/python3.9/site-packages (from matplotlib>=2.2->seaborn) (1.3.2)\n",
      "Requirement already satisfied: python-dateutil>=2.7 in /usr/local/lib/python3.9/site-packages (from matplotlib>=2.2->seaborn) (2.8.1)\n",
      "Requirement already satisfied: cycler>=0.10 in /usr/local/lib/python3.9/site-packages (from matplotlib>=2.2->seaborn) (0.10.0)\n",
      "Requirement already satisfied: pillow>=6.2.0 in /usr/local/lib/python3.9/site-packages (from matplotlib>=2.2->seaborn) (8.3.2)\n",
      "Requirement already satisfied: six in /usr/local/lib/python3.9/site-packages (from cycler>=0.10->matplotlib>=2.2->seaborn) (1.15.0)\n",
      "Requirement already satisfied: pytz>=2017.3 in /usr/local/lib/python3.9/site-packages (from pandas>=0.23->seaborn) (2020.5)\n",
      "\u001b[33mWARNING: You are using pip version 20.3.3; however, version 21.3.1 is available.\n",
      "You should consider upgrading via the '/usr/local/opt/python@3.9/bin/python3.9 -m pip install --upgrade pip' command.\u001b[0m\n",
      "Requirement already satisfied: anvil-uplink in /usr/local/lib/python3.9/site-packages (0.3.41)\n",
      "Requirement already satisfied: future in /usr/local/lib/python3.9/site-packages (from anvil-uplink) (0.18.2)\n",
      "Requirement already satisfied: six in /usr/local/lib/python3.9/site-packages (from anvil-uplink) (1.15.0)\n",
      "Requirement already satisfied: ws4py in /usr/local/lib/python3.9/site-packages (from anvil-uplink) (0.5.1)\n",
      "Collecting argparse\n",
      "  Using cached argparse-1.4.0-py2.py3-none-any.whl (23 kB)\n",
      "Installing collected packages: argparse\n",
      "Successfully installed argparse-1.4.0\n",
      "\u001b[33mWARNING: You are using pip version 20.3.3; however, version 21.3.1 is available.\n",
      "You should consider upgrading via the '/usr/local/opt/python@3.9/bin/python3.9 -m pip install --upgrade pip' command.\u001b[0m\n",
      "Requirement already satisfied: statsmodels in /usr/local/lib/python3.9/site-packages (0.13.1)\n",
      "Requirement already satisfied: patsy>=0.5.2 in /usr/local/lib/python3.9/site-packages (from statsmodels) (0.5.2)\n",
      "Requirement already satisfied: numpy>=1.17 in /usr/local/lib/python3.9/site-packages (from statsmodels) (1.19.5)\n",
      "Requirement already satisfied: scipy>=1.3 in /usr/local/lib/python3.9/site-packages (from statsmodels) (1.7.1)\n",
      "Requirement already satisfied: pandas>=0.25 in /usr/local/lib/python3.9/site-packages (from statsmodels) (1.2.1)\n",
      "Requirement already satisfied: pytz>=2017.3 in /usr/local/lib/python3.9/site-packages (from pandas>=0.25->statsmodels) (2020.5)\n",
      "Requirement already satisfied: python-dateutil>=2.7.3 in /usr/local/lib/python3.9/site-packages (from pandas>=0.25->statsmodels) (2.8.1)\n",
      "Requirement already satisfied: six in /usr/local/lib/python3.9/site-packages (from patsy>=0.5.2->statsmodels) (1.15.0)\n",
      "\u001b[33mWARNING: You are using pip version 20.3.3; however, version 21.3.1 is available.\n",
      "You should consider upgrading via the '/usr/local/opt/python@3.9/bin/python3.9 -m pip install --upgrade pip' command.\u001b[0m\n"
     ]
    }
   ],
   "source": [
    "import pandas as pd\n",
    "import numpy as np\n",
    "from datetime import date\n",
    "from sklearn.model_selection import train_test_split\n",
    "from sklearn.linear_model import LinearRegression\n",
    "from sklearn.metrics import mean_squared_error\n",
    "import matplotlib.pyplot as plt\n",
    "!pip3 install seaborn\n",
    "import seaborn as sns\n",
    "import random\n",
    "!pip3 install anvil-uplink\n",
    "import anvil.server\n",
    "\n",
    "!pip3 install statsmodels\n",
    "from statsmodels.tsa.arima_model import ARIMA\n",
    "from statsmodels.tsa.statespace.sarimax import SARIMAX\n",
    "from statsmodels.graphics.tsaplots import plot_acf, plot_pacf\n",
    "from statsmodels.tsa.stattools import adfuller\n",
    "from statsmodels.tsa.seasonal import seasonal_decompose\n",
    "\n",
    "from scipy import stats\n",
    "import statsmodels.api as sm\n",
    "from itertools import product\n",
    "\n",
    "import warnings\n",
    "warnings.filterwarnings('ignore')"
   ]
  },
  {
   "cell_type": "code",
   "execution_count": 2,
   "id": "38b80226",
   "metadata": {},
   "outputs": [
    {
     "name": "stdout",
     "output_type": "stream",
     "text": [
      "Connecting to wss://anvil.works/uplink\n",
      "Anvil websocket open\n",
      "Connected to \"Default environment\" as SERVER\n"
     ]
    }
   ],
   "source": [
    "key = \"J2F3MZMQHEPOUQ5GQXU52H3K-RJD3O4J56QXDYFIP\"\n",
    "anvil.server.connect(key)"
   ]
  },
  {
   "cell_type": "markdown",
   "id": "f520bff8",
   "metadata": {},
   "source": [
    "## Portfolio Profit Prediction"
   ]
  },
  {
   "cell_type": "code",
   "execution_count": 3,
   "id": "d983db53",
   "metadata": {},
   "outputs": [],
   "source": [
    "def profit_predictor(currencies_of_interest, starting_balances_list, crypto_usd_fx_list):\n",
    "    \n",
    "    from datetime import date\n",
    "    \n",
    "    df = pd.read_csv(\"crypto-markets.csv\")\n",
    "    curr_dic = {}\n",
    "    for currency in currencies_of_interest:\n",
    "        curr_dic[currency] = df.loc[df[\"symbol\"].str.lower()==currency,:].copy()\n",
    "        curr_dic[currency].reset_index(inplace=True, drop=True)\n",
    "\n",
    "    for currency in currencies_of_interest:\n",
    "        # Restructure data so that date, open, past market cap(s), past high/low(s) are used to predict close price\n",
    "        no_rows = curr_dic[currency].shape[0]\n",
    "        for row in range(no_rows - 1):\n",
    "            curr_dic[currency].iloc[no_rows - 1 - row, 6] = curr_dic[currency].iloc[no_rows - 1 - row - 1, 6]\n",
    "            curr_dic[currency].iloc[no_rows - 1 - row, 7] = curr_dic[currency].iloc[no_rows - 1 - row - 1, 7]\n",
    "            curr_dic[currency].iloc[no_rows - 1 - row, 10] = curr_dic[currency].iloc[no_rows - 1 - row - 1, 10]\n",
    "        curr_dic[currency].drop(0, axis=0, inplace=True)\n",
    "        curr_dic[currency].drop(columns=[\"slug\", \"symbol\", \"name\", \"ranknow\", \"close_ratio\", \"spread\", \"volume\"], inplace=True)\n",
    "        curr_dic[currency].rename(columns={\"high\": \"Prev High\", \"low\": \"Prev Low\", \"market\": \"Prev Marketcap\", \"close\": \"Close\"}, inplace=True)\n",
    "\n",
    "        # Change date column into an integer for number of days since start date\n",
    "        date_null = date.fromisoformat(curr_dic[currency].iloc[0, 0])\n",
    "        for row in range(no_rows - 1):\n",
    "            date = date.fromisoformat(curr_dic[currency].iloc[row, 0])\n",
    "            curr_dic[currency].iloc[row, 0] = (date - date_null).days\n",
    "        \n",
    "    # Split into training and test sets\n",
    "    try:\n",
    "        set_dic = {}\n",
    "        for currency in currencies_of_interest:\n",
    "            set_dic[\"train_\"+currency], set_dic[\"val_\"+currency] = train_test_split(\n",
    "                curr_dic[currency][[\"date\", \"Prev High\", \"Prev Low\", \"open\", \"Prev Marketcap\", \"Close\"]], \n",
    "                test_size=0.33, random_state=1234)\n",
    "            set_dic[\"X_train_\"+currency] = set_dic[\"train_\"+currency][[\"date\", \"Prev High\", \"Prev Low\", \"open\", \"Prev Marketcap\"]]\n",
    "            set_dic[\"X_test_\"+currency] = set_dic[\"val_\"+currency][[\"date\", \"Prev High\", \"Prev Low\", \"open\", \"Prev Marketcap\"]]\n",
    "            set_dic[\"Y_train_\"+currency] = set_dic[\"train_\"+currency][\"Close\"]\n",
    "            set_dic[\"Y_test_\"+currency] = set_dic[\"val_\"+currency][\"Close\"]\n",
    "    except:\n",
    "        return 0\n",
    "    \n",
    "    # Basic linear regression seems to have lower RMSE which is interesting and unexpected\n",
    "    # Not using accuracy as a performance measure because I am predicting a continuous variable\n",
    "    model_dic = {}\n",
    "    for currency in currencies_of_interest:\n",
    "        model_dic[currency] = LinearRegression()\n",
    "        model_dic[\"reg_\"+currency] = model_dic[currency].fit(set_dic[\"X_train_\"+currency], set_dic[\"Y_train_\"+currency])\n",
    "        y_pred_btc = model_dic[\"reg_\"+currency].predict(set_dic[\"X_test_\"+currency])\n",
    "        #print(\"RMSE \" + currency + \": \" + str(mean_squared_error(set_dic[\"Y_test_\"+currency], y_pred_btc) ** 0.5))\n",
    "\n",
    "    starting_balances = {}\n",
    "    crypto_usd_fx = {}\n",
    "    starting_indicators = {}\n",
    "    predictions = {}\n",
    "    counter = 0\n",
    "\n",
    "    for currency in currencies_of_interest:\n",
    "        starting_balances[currency] = starting_balances_list[counter]\n",
    "        crypto_usd_fx[currency] = crypto_usd_fx_list[counter]\n",
    "        counter += 1\n",
    "\n",
    "        starting_indicators[currency] = curr_dic[currency].iloc[0,:][[\"date\", \"Prev High\", \"Prev Low\", \"open\", \"Prev Marketcap\"]].to_frame().T\n",
    "        predictions[currency] = model_dic[\"reg_\"+currency].predict(starting_indicators[currency])\n",
    "\n",
    "    revenue = sum([crypto_usd_fx[currency]*predictions[currency] for currency in currencies_of_interest])\n",
    "    cost = sum([crypto_usd_fx[currency]*starting_balances[currency] for currency in currencies_of_interest])\n",
    "    profit = revenue - cost\n",
    "\n",
    "    counter = 0\n",
    "    return profit"
   ]
  },
  {
   "cell_type": "code",
   "execution_count": 28,
   "id": "ae6477fa",
   "metadata": {},
   "outputs": [],
   "source": [
    "def profit_predictor(currencies_of_interest, starting_balances_list, crypto_usd_fx_list):\n",
    "    \n",
    "    from datetime import date\n",
    "    \n",
    "    # Data cleaning\n",
    "    dateparse = lambda dates: pd.datetime.strptime(dates, '%Y-%m-%d')\n",
    "    df = pd.read_csv('crypto-markets.csv', parse_dates=['date'], index_col='date', date_parser=dateparse)\n",
    "    curr_dic = {}\n",
    "    for currency in currencies_of_interest:\n",
    "        temp = df.loc[df[\"symbol\"].str.lower()==currency,:].copy()\n",
    "        temp.drop(['slug', 'volume','symbol','name','ranknow','market', 'close_ratio', 'spread'],axis=1,inplace=True)\n",
    "        curr_dic[currency] = temp.resample('M').mean().copy()\n",
    "        try: curr_dic[currency]['close_box'], lmbda = stats.boxcox(curr_dic[currency].close)\n",
    "        except: curr_dic[currency]['close_box'] = np.log(curr_dic[currency].close)\n",
    "    \n",
    "    # SARIMAX defined here\n",
    "    qs = range(0, 3)\n",
    "    ps = range(0, 3)\n",
    "    d= 1\n",
    "    parameters = product(ps, qs)\n",
    "    parameters_list = list(parameters)\n",
    "    model_dic = {}\n",
    "    for currency in currencies_of_interest:\n",
    "        best_aic = float(\"inf\")\n",
    "        warnings.filterwarnings('ignore')\n",
    "        for param in parameters_list:\n",
    "            try:\n",
    "                model = SARIMAX(curr_dic[currency].close_box, order=(param[0], d, param[1])).fit(disp=-1)\n",
    "                aic = model.aic\n",
    "            except: \n",
    "                aic = float(\"inf\")\n",
    "                model = -1\n",
    "            if aic < best_aic:\n",
    "                model_dic[currency] = model\n",
    "                best_aic = aic\n",
    "                \n",
    "    # Transform back before box-cox\n",
    "    def inverseboxcox(y, lam):\n",
    "        if lam == 0:\n",
    "            return(np.exp(y))\n",
    "        else:\n",
    "            return(np.exp(np.log(lam*y+1)/lam))\n",
    "\n",
    "    starting_balances = {}\n",
    "    crypto_usd_fx = {}\n",
    "    predictions = {}\n",
    "    counter = 0\n",
    "\n",
    "    for currency in currencies_of_interest:\n",
    "        starting_balances[currency] = starting_balances_list[counter]\n",
    "        crypto_usd_fx[currency] = crypto_usd_fx_list[counter]\n",
    "        counter += 1\n",
    "\n",
    "        try: predictions[currency] = inverseboxcox(model_dic[currency].predict(start=pd.datetime(2018,11,30), end=pd.datetime(2018,12,31)), lmbda)[1]\n",
    "        except: predictions[currency] = np.mean(curr_dic[currency].close)\n",
    "            \n",
    "    revenue = sum([crypto_usd_fx[currency]*predictions[currency] for currency in currencies_of_interest])\n",
    "    cost = sum([crypto_usd_fx[currency]*starting_balances[currency] for currency in currencies_of_interest])\n",
    "    profit = revenue - cost\n",
    "\n",
    "    counter = 0\n",
    "    return profit"
   ]
  },
  {
   "cell_type": "markdown",
   "id": "ca146ff0",
   "metadata": {},
   "source": [
    "## Portfolio Risk Calculator"
   ]
  },
  {
   "cell_type": "code",
   "execution_count": 4,
   "id": "2a247c03",
   "metadata": {},
   "outputs": [
    {
     "name": "stderr",
     "output_type": "stream",
     "text": [
      "/var/folders/pl/x69vyh_x4k9d_yy39hrx6q440000gn/T/ipykernel_47188/2413165031.py:5: UserWarning: Boolean Series key will be reindexed to match DataFrame index.\n",
      "  cleaned_all_cryptos = cleaned_all_cryptos[all_cryptos_df['date'] != \"2018-11-30\"]\n"
     ]
    }
   ],
   "source": [
    "all_cryptos_df = pd.read_csv(\"crypto-markets.csv\") #Read in project data\n",
    "all_cryptos_df.head()\n",
    "\n",
    "cleaned_all_cryptos = all_cryptos_df[all_cryptos_df['date'].str.startswith(\"2018\")] #Only use historical price data from 2018\n",
    "cleaned_all_cryptos = cleaned_all_cryptos[all_cryptos_df['date'] != \"2018-11-30\"]\n",
    "cleaned_all_cryptos['daily_returns'] = (cleaned_all_cryptos['close'] - cleaned_all_cryptos['open']) / (cleaned_all_cryptos['open']) * 100 #create daily percentage returns column\n",
    "cleaned_all_cryptos.head()\n",
    "\n",
    "names = cleaned_all_cryptos['name'].unique() #Use unique names to calculate each crypto's beta\n",
    "names = [x.lower() for x in names]"
   ]
  },
  {
   "cell_type": "code",
   "execution_count": 5,
   "id": "f97ec98b",
   "metadata": {},
   "outputs": [],
   "source": [
    "def calculate_risk(names, percentages):\n",
    "    score = 0;\n",
    "    for i in range(len(names)):\n",
    "        x = cleaned_all_cryptos[cleaned_all_cryptos['symbol'].str.lower() == names[i].lower()]['daily_returns']\n",
    "        if (x.empty):\n",
    "            print(names[i] + ' doesnt exist!')\n",
    "            return -1\n",
    "        score += percentages[i] * np.var(x)\n",
    "    for i in range(len(names)):\n",
    "        for j in range(len(names)):\n",
    "            first = cleaned_all_cryptos[cleaned_all_cryptos['symbol'].str.lower() == names[i]]\n",
    "            second = cleaned_all_cryptos[cleaned_all_cryptos['symbol'].str.lower() == names[j]]\n",
    "            if (i != j):\n",
    "                if (first.shape[0] <= second.shape[0]):\n",
    "                    arr_match = first['date']\n",
    "                    second = second[second['date'].isin(arr_match)]\n",
    "                elif (first.shape[0] > second.shape[0]):\n",
    "                    arr = second['date']\n",
    "                    first = first[first['date'].isin(arr)]\n",
    "                if len(second['date']) != len(first['date']):\n",
    "                    return -1\n",
    "                score += percentages[i] * percentages[j] * np.cov(first['daily_returns'], second['daily_returns'])[0][1]\n",
    "    return np.sqrt(score)"
   ]
  },
  {
   "cell_type": "markdown",
   "id": "b492caf1",
   "metadata": {},
   "source": [
    "## Possible Portfolio Generation"
   ]
  },
  {
   "cell_type": "code",
   "execution_count": 6,
   "id": "c1439be1",
   "metadata": {
    "scrolled": true
   },
   "outputs": [
    {
     "name": "stderr",
     "output_type": "stream",
     "text": [
      "/var/folders/pl/x69vyh_x4k9d_yy39hrx6q440000gn/T/ipykernel_47188/2536516908.py:23: RuntimeWarning: invalid value encountered in sqrt\n",
      "  return np.sqrt(score)\n"
     ]
    },
    {
     "name": "stdout",
     "output_type": "stream",
     "text": [
      "{-1: [{'ttv': 26, 'voco': 19, 'dmd': 20, 'gcn': 22, 'ark': 13}, {'gpkr': 18, 'aib': 16, 'vips': 17, 'dit': 27, 'cefs': 22}, {'gmcn': 17, 'mex': 23, 'inxt': 20, 'bq': 20, 'aog': 20}, {'btg': 20, 'olmp': 24, 'psc': 14, '$$$': 20, 'ctic3': 22}, {'tac': 16, 'her': 23, 'dbet': 16, 'ponzi': 23, 'stn': 22}, {'flax': 20, 'kmd': 20, 'mod': 17, 'purex': 16, 'troll': 27}, {'zap': 18, 'cbc': 21, 'asafe2': 19, 'cofi': 27, 'dmt': 15}, {'btm': 20, 'frn': 28, 'ifc': 14, 'ten': 17, 'ents': 21}, {'vta': 19, 'lbc': 23, 'pat': 21, 'plnc': 17, 'fct': 20}, {'edr': 15, 'bpl': 17, 'cpay': 21, 'rgs': 23, 'mex': 24}, {'nsd': 19, 'fgc': 25, 'xlm': 13, 'mitx': 18, 'xstc': 25}, {'wys': 23, 'cno': 22, 'qkc': 22, 'bloc': 15, 'btt': 18}, {'iost': 22, 'tes': 13, 'i0c': 21, 'crb': 27, 'sms': 17}, {'tfl': 11, 'wa': 24, 'biteur': 18, 'msp': 26, 'xmy': 21}], 474.2: [{'indi': 20, 'xmg': 20, 'dash': 16, 'opcx': 20, 'net': 24}], 414.4: [{'ejoy': 22, 'cs': 30, 'hush': 10, 'btcs': 22, 'bcdt': 16}], 279.2: [{'gary': 23, 'bank': 21, 'loc': 22, 'gld': 13, 'btt': 21}], 378.4: [{'wtc': 15, 'bsv': 15, 'rpi': 27, 'brd': 28, 'etho': 15}], 499.7: [{'altx': 17, 'dec': 23, 'mars': 23, 'swt': 22, 'hgt': 15}], 408.6: [{'mars': 19, 'bcpt': 23, 'vrs': 24, 'lqd': 16, 'idh': 18}]}\n"
     ]
    }
   ],
   "source": [
    "currencies = cleaned_all_cryptos[\"symbol\"].str.lower().unique().tolist()\n",
    "portfolio_size = 5\n",
    "risk_portfolios = {}\n",
    "for trial in range(20):\n",
    "    temp_port_dict = {}\n",
    "    curr_temp = random.sample(currencies, portfolio_size)\n",
    "    for currency in curr_temp: temp_port_dict[currency] = 0\n",
    "    for i in range(1, 101):\n",
    "        selected_curr = random.choice(curr_temp)\n",
    "        temp_port_dict[selected_curr] += 1\n",
    "    risk_lvl = calculate_risk(curr_temp, [temp_port_dict[i] for i in curr_temp])\n",
    "    if pd.isna(risk_lvl) or (isinstance(risk_lvl, int) == False and isinstance(risk_lvl, float) == False):\n",
    "        risk_lvl = -1\n",
    "    if round(risk_lvl, 1) not in risk_portfolios:\n",
    "        risk_portfolios[round(risk_lvl, 1)] = [temp_port_dict]\n",
    "    else: \n",
    "        risk_portfolios[round(risk_lvl, 1)].append(temp_port_dict)\n",
    "print(risk_portfolios)"
   ]
  },
  {
   "cell_type": "markdown",
   "id": "6e80d5b7",
   "metadata": {},
   "source": [
    "## Portfolio Selection Per Risk Bucket"
   ]
  },
  {
   "cell_type": "code",
   "execution_count": 29,
   "id": "9e1e9608",
   "metadata": {},
   "outputs": [
    {
     "name": "stdout",
     "output_type": "stream",
     "text": [
      "{-1: {'gpkr': 18, 'aib': 16, 'vips': 17, 'dit': 27, 'cefs': 22}, 279.2: {'gary': 23, 'bank': 21, 'loc': 22, 'gld': 13, 'btt': 21}, 378.4: {'wtc': 15, 'bsv': 15, 'rpi': 27, 'brd': 28, 'etho': 15}, 499.7: {'altx': 17, 'dec': 23, 'mars': 23, 'swt': 22, 'hgt': 15}, 408.6: {'mars': 19, 'bcpt': 23, 'vrs': 24, 'lqd': 16, 'idh': 18}}\n"
     ]
    }
   ],
   "source": [
    "final_portfolios = {}\n",
    "initial_keys = []\n",
    "for risk in risk_portfolios.keys():\n",
    "    if risk != -1: initial_keys.append(risk)\n",
    "    portfolio_options = risk_portfolios[risk]\n",
    "    crypto_usd_fx_list = [1 for i in range(portfolio_size)]\n",
    "    profit_est = float('-inf')\n",
    "    for portfolio in portfolio_options:\n",
    "        initial_portfolio_worth = 100\n",
    "        temp_currencies = [i for i in portfolio.keys()]\n",
    "        profit_pred = profit_predictor(temp_currencies, [portfolio[i]*.01*initial_portfolio_worth for i in temp_currencies], crypto_usd_fx_list)\n",
    "        \n",
    "        if profit_pred > profit_est:\n",
    "            final_portfolios[risk] = portfolio\n",
    "            profit_est = profit_pred\n",
    "    profit_est = -1000\n",
    "print(final_portfolios)"
   ]
  },
  {
   "cell_type": "code",
   "execution_count": 33,
   "id": "0829c600",
   "metadata": {},
   "outputs": [
    {
     "name": "stdout",
     "output_type": "stream",
     "text": [
      "{0: {'gary': 23, 'bank': 21, 'loc': 22, 'gld': 13, 'btt': 21}, 4: {'wtc': 15, 'bsv': 15, 'rpi': 27, 'brd': 28, 'etho': 15}, 10: {'altx': 17, 'dec': 23, 'mars': 23, 'swt': 22, 'hgt': 15}, 5: {'mars': 19, 'bcpt': 23, 'vrs': 24, 'lqd': 16, 'idh': 18}}\n"
     ]
    }
   ],
   "source": [
    "if -1 in final_portfolios.keys(): del final_portfolios[-1]\n",
    "initial_keys = [i for i in final_portfolios.keys() if i != 0]\n",
    "for risk in initial_keys:\n",
    "    scaled = round((((risk - np.min(initial_keys)) / (np.max(initial_keys - np.min(initial_keys)))) * 10) // 1)\n",
    "    final_portfolios[scaled] = final_portfolios.pop(risk)\n",
    "print(final_portfolios)"
   ]
  },
  {
   "cell_type": "markdown",
   "id": "5cfdc7cf",
   "metadata": {},
   "source": [
    "## Visualization of Risk"
   ]
  },
  {
   "cell_type": "code",
   "execution_count": 34,
   "id": "35a67b8d",
   "metadata": {},
   "outputs": [
    {
     "data": {
      "image/png": "[encoded data removed]",
      "text/plain": [
       "<Figure size 1080x432 with 1 Axes>"
      ]
     },
     "metadata": {
      "needs_background": "light"
     },
     "output_type": "display_data"
    }
   ],
   "source": [
    "#Create data visualizations for lowest risk portfolio using matplotlib\n",
    "\n",
    "#Take portfolio with lowest risk\n",
    "max_portfolio = [i for i in final_portfolios[0].keys()]\n",
    "\n",
    "#Draw the portfolio plots\n",
    "plt.rcParams['figure.figsize'] = (15,6)\n",
    "plt.title('Lowest Risk Portfolio Daily Returns Over Time')\n",
    "plt.xlabel('Date')\n",
    "plt.ylabel('Daily Returns As A Percentage')\n",
    "\n",
    "portfolio_cryptos = cleaned_all_cryptos[cleaned_all_cryptos['symbol'].str.lower().isin(max_portfolio)]\n",
    "for symbol in max_portfolio:\n",
    "    crypto = portfolio_cryptos[portfolio_cryptos['symbol'].str.lower() == symbol]\n",
    "    plt.plot(crypto['date'], crypto['daily_returns'], label = symbol)\n",
    "\n",
    "plt.legend()\n",
    "plt.show()"
   ]
  },
  {
   "cell_type": "code",
   "execution_count": 10,
   "id": "f4d02f30",
   "metadata": {},
   "outputs": [
    {
     "ename": "KeyboardInterrupt",
     "evalue": "",
     "output_type": "error",
     "traceback": [
      "\u001b[0;31m---------------------------------------------------------------------------\u001b[0m",
      "\u001b[0;31mKeyboardInterrupt\u001b[0m                         Traceback (most recent call last)",
      "\u001b[0;32m/var/folders/pl/x69vyh_x4k9d_yy39hrx6q440000gn/T/ipykernel_47188/3505882270.py\u001b[0m in \u001b[0;36m<module>\u001b[0;34m\u001b[0m\n\u001b[1;32m     26\u001b[0m     \u001b[0;32mexcept\u001b[0m\u001b[0;34m:\u001b[0m \u001b[0;32mreturn\u001b[0m \u001b[0mpd\u001b[0m\u001b[0;34m.\u001b[0m\u001b[0mDataFrame\u001b[0m\u001b[0;34m(\u001b[0m\u001b[0;34m)\u001b[0m\u001b[0;34m\u001b[0m\u001b[0;34m\u001b[0m\u001b[0m\n\u001b[1;32m     27\u001b[0m \u001b[0;34m\u001b[0m\u001b[0m\n\u001b[0;32m---> 28\u001b[0;31m \u001b[0manvil\u001b[0m\u001b[0;34m.\u001b[0m\u001b[0mserver\u001b[0m\u001b[0;34m.\u001b[0m\u001b[0mwait_forever\u001b[0m\u001b[0;34m(\u001b[0m\u001b[0;34m)\u001b[0m\u001b[0;34m\u001b[0m\u001b[0;34m\u001b[0m\u001b[0m\n\u001b[0m",
      "\u001b[0;32m/usr/local/Caskroom/miniconda/base/lib/python3.8/site-packages/anvil/server.py\u001b[0m in \u001b[0;36mwait_forever\u001b[0;34m()\u001b[0m\n\u001b[1;32m    425\u001b[0m     \u001b[0m_get_connection\u001b[0m\u001b[0;34m(\u001b[0m\u001b[0;34m)\u001b[0m\u001b[0;34m\u001b[0m\u001b[0;34m\u001b[0m\u001b[0m\n\u001b[1;32m    426\u001b[0m     \u001b[0;32mwhile\u001b[0m \u001b[0;32mTrue\u001b[0m\u001b[0;34m:\u001b[0m\u001b[0;34m\u001b[0m\u001b[0;34m\u001b[0m\u001b[0m\n\u001b[0;32m--> 427\u001b[0;31m         \u001b[0mtime\u001b[0m\u001b[0;34m.\u001b[0m\u001b[0msleep\u001b[0m\u001b[0;34m(\u001b[0m\u001b[0;36m1\u001b[0m\u001b[0;34m)\u001b[0m\u001b[0;34m\u001b[0m\u001b[0;34m\u001b[0m\u001b[0m\n\u001b[0m",
      "\u001b[0;31mKeyboardInterrupt\u001b[0m: "
     ]
    }
   ],
   "source": [
    "@anvil.server.callable\n",
    "def risk_portfolio(risk):\n",
    "    try: return final_portfolios[int(risk)]\n",
    "    except: return {\"NA\": 20, \"NA\": 20, \"NA\": 20, \"NA\": 20, \"NA\": 20}\n",
    "    \n",
    "def risk_evaluation(portfolio):\n",
    "    try: \n",
    "        assets = [i for i in portfolio.keys()]\n",
    "        weights = [portfolio[i] for i in assets]\n",
    "        risk = calculate_risk(assets, weights)\n",
    "        return round((((risk - np.min(initial_keys)) / (np.max(initial_keys - np.min(initial_keys)))) * 10) // 1)\n",
    "    except: return -1\n",
    "    \n",
    "def portfolio_volatility(portfolio):\n",
    "    try:\n",
    "        max_portfolio = [i for i in portfolio.keys()]\n",
    "        portfolio_cryptos = cleaned_all_cryptos[cleaned_all_cryptos['symbol'].str.lower().isin(max_portfolio)]\n",
    "        return [max_portfolio, portfolio_cryptos]\n",
    "    except: return [[\"NA\", \"NA\"], pd.DataFrame()]\n",
    "    \n",
    "def portfolio_correlation(portfolio):\n",
    "    try:\n",
    "        max_portfolio = [i for i in portfolio.keys()]\n",
    "        portfolio_cryptos = cleaned_all_cryptos[cleaned_all_cryptos['symbol'].str.lower().isin(max_portfolio)]\n",
    "        return portfolio_cryptos\n",
    "    except: return pd.DataFrame()\n",
    "    \n",
    "anvil.server.wait_forever()"
   ]
  },
  {
   "cell_type": "code",
   "execution_count": null,
   "id": "0ef3b90d",
   "metadata": {},
   "outputs": [],
   "source": []
  }
 ],
 "metadata": {
  "kernelspec": {
   "display_name": "Python 3 (ipykernel)",
   "language": "python",
   "name": "python3"
  },
  "language_info": {
   "codemirror_mode": {
    "name": "ipython",
    "version": 3
   },
   "file_extension": ".py",
   "mimetype": "text/x-python",
   "name": "python",
   "nbconvert_exporter": "python",
   "pygments_lexer": "ipython3",
   "version": "3.8.5"
  }
 },
 "nbformat": 4,
 "nbformat_minor": 5
}
