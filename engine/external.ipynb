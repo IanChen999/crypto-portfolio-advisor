{
 "cells": [
  {
   "cell_type": "code",
   "execution_count": 1,
   "id": "4b74c97d",
   "metadata": {},
   "outputs": [
    {
     "name": "stdout",
     "output_type": "stream",
     "text": [
      "Requirement already satisfied: seaborn in /usr/local/lib/python3.9/site-packages (0.11.2)\n",
      "Requirement already satisfied: matplotlib>=2.2 in /usr/local/lib/python3.9/site-packages (from seaborn) (3.4.3)\n",
      "Requirement already satisfied: scipy>=1.0 in /usr/local/lib/python3.9/site-packages (from seaborn) (1.7.1)\n",
      "Requirement already satisfied: numpy>=1.15 in /usr/local/lib/python3.9/site-packages (from seaborn) (1.19.5)\n",
      "Requirement already satisfied: pandas>=0.23 in /usr/local/lib/python3.9/site-packages (from seaborn) (1.2.1)\n",
      "Requirement already satisfied: pyparsing>=2.2.1 in /usr/local/lib/python3.9/site-packages (from matplotlib>=2.2->seaborn) (2.4.7)\n",
      "Requirement already satisfied: pillow>=6.2.0 in /usr/local/lib/python3.9/site-packages (from matplotlib>=2.2->seaborn) (8.3.2)\n",
      "Requirement already satisfied: cycler>=0.10 in /usr/local/lib/python3.9/site-packages (from matplotlib>=2.2->seaborn) (0.10.0)\n",
      "Requirement already satisfied: kiwisolver>=1.0.1 in /usr/local/lib/python3.9/site-packages (from matplotlib>=2.2->seaborn) (1.3.2)\n",
      "Requirement already satisfied: python-dateutil>=2.7 in /usr/local/lib/python3.9/site-packages (from matplotlib>=2.2->seaborn) (2.8.1)\n",
      "Requirement already satisfied: six in /usr/local/lib/python3.9/site-packages (from cycler>=0.10->matplotlib>=2.2->seaborn) (1.15.0)\n",
      "Requirement already satisfied: pytz>=2017.3 in /usr/local/lib/python3.9/site-packages (from pandas>=0.23->seaborn) (2020.5)\n",
      "\u001b[33mWARNING: You are using pip version 20.3.3; however, version 21.3.1 is available.\n",
      "You should consider upgrading via the '/usr/local/opt/python@3.9/bin/python3.9 -m pip install --upgrade pip' command.\u001b[0m\n",
      "zsh:1: command not found: pip\n"
     ]
    }
   ],
   "source": [
    "import pandas as pd\n",
    "import numpy as np\n",
    "from datetime import date\n",
    "from sklearn.model_selection import train_test_split\n",
    "from sklearn.linear_model import LinearRegression\n",
    "from sklearn.metrics import mean_squared_error\n",
    "import matplotlib.pyplot as plt\n",
    "!pip3 install seaborn\n",
    "import seaborn as sns\n",
    "import random\n",
    "!pip install anvil-uplink\n",
    "import anvil.server"
   ]
  },
  {
   "cell_type": "code",
   "execution_count": 2,
   "id": "38b80226",
   "metadata": {},
   "outputs": [
    {
     "name": "stdout",
     "output_type": "stream",
     "text": [
      "Connecting to wss://anvil.works/uplink\n",
      "Anvil websocket open\n",
      "Connected to \"Default environment\" as SERVER\n"
     ]
    }
   ],
   "source": [
    "key = \"EXN4KXVVKRSOCFKNHMM3GTOI-2MPR74A6KBBH2UMX\"\n",
    "anvil.server.connect(key)"
   ]
  },
  {
   "cell_type": "markdown",
   "id": "f520bff8",
   "metadata": {},
   "source": [
    "## Portfolio Profit Prediction"
   ]
  },
  {
   "cell_type": "code",
   "execution_count": 3,
   "id": "d983db53",
   "metadata": {},
   "outputs": [],
   "source": [
    "def profit_predictor(currencies_of_interest, starting_balances_list, crypto_usd_fx_list):\n",
    "    \n",
    "    from datetime import date\n",
    "    \n",
    "    df = pd.read_csv(\"crypto-markets.csv\")\n",
    "    curr_dic = {}\n",
    "    for currency in currencies_of_interest:\n",
    "        curr_dic[currency] = df.loc[df[\"symbol\"].str.lower()==currency,:].copy()\n",
    "        curr_dic[currency].reset_index(inplace=True, drop=True)\n",
    "\n",
    "    for currency in currencies_of_interest:\n",
    "        # Restructure data so that date, open, past market cap(s), past high/low(s) are used to predict close price\n",
    "        no_rows = curr_dic[currency].shape[0]\n",
    "        for row in range(no_rows - 1):\n",
    "            curr_dic[currency].iloc[no_rows - 1 - row, 6] = curr_dic[currency].iloc[no_rows - 1 - row - 1, 6]\n",
    "            curr_dic[currency].iloc[no_rows - 1 - row, 7] = curr_dic[currency].iloc[no_rows - 1 - row - 1, 7]\n",
    "            curr_dic[currency].iloc[no_rows - 1 - row, 10] = curr_dic[currency].iloc[no_rows - 1 - row - 1, 10]\n",
    "        curr_dic[currency].drop(0, axis=0, inplace=True)\n",
    "        curr_dic[currency].drop(columns=[\"slug\", \"symbol\", \"name\", \"ranknow\", \"close_ratio\", \"spread\", \"volume\"], inplace=True)\n",
    "        curr_dic[currency].rename(columns={\"high\": \"Prev High\", \"low\": \"Prev Low\", \"market\": \"Prev Marketcap\", \"close\": \"Close\"}, inplace=True)\n",
    "\n",
    "        # Change date column into an integer for number of days since start date\n",
    "        date_null = date.fromisoformat(curr_dic[currency].iloc[0, 0])\n",
    "        for row in range(no_rows - 1):\n",
    "            date = date.fromisoformat(curr_dic[currency].iloc[row, 0])\n",
    "            curr_dic[currency].iloc[row, 0] = (date - date_null).days\n",
    "        \n",
    "    # Split into training and test sets\n",
    "    try:\n",
    "        set_dic = {}\n",
    "        for currency in currencies_of_interest:\n",
    "            set_dic[\"train_\"+currency], set_dic[\"val_\"+currency] = train_test_split(\n",
    "                curr_dic[currency][[\"date\", \"Prev High\", \"Prev Low\", \"open\", \"Prev Marketcap\", \"Close\"]], \n",
    "                test_size=0.33, random_state=1234)\n",
    "            set_dic[\"X_train_\"+currency] = set_dic[\"train_\"+currency][[\"date\", \"Prev High\", \"Prev Low\", \"open\", \"Prev Marketcap\"]]\n",
    "            set_dic[\"X_test_\"+currency] = set_dic[\"val_\"+currency][[\"date\", \"Prev High\", \"Prev Low\", \"open\", \"Prev Marketcap\"]]\n",
    "            set_dic[\"Y_train_\"+currency] = set_dic[\"train_\"+currency][\"Close\"]\n",
    "            set_dic[\"Y_test_\"+currency] = set_dic[\"val_\"+currency][\"Close\"]\n",
    "    except:\n",
    "        return 0\n",
    "    \n",
    "    # Basic linear regression seems to have lower RMSE which is interesting and unexpected\n",
    "    # Not using accuracy as a performance measure because I am predicting a continuous variable\n",
    "    model_dic = {}\n",
    "    for currency in currencies_of_interest:\n",
    "        model_dic[currency] = LinearRegression()\n",
    "        model_dic[\"reg_\"+currency] = model_dic[currency].fit(set_dic[\"X_train_\"+currency], set_dic[\"Y_train_\"+currency])\n",
    "        y_pred_btc = model_dic[\"reg_\"+currency].predict(set_dic[\"X_test_\"+currency])\n",
    "        #print(\"RMSE \" + currency + \": \" + str(mean_squared_error(set_dic[\"Y_test_\"+currency], y_pred_btc) ** 0.5))\n",
    "\n",
    "    starting_balances = {}\n",
    "    crypto_usd_fx = {}\n",
    "    starting_indicators = {}\n",
    "    predictions = {}\n",
    "    counter = 0\n",
    "\n",
    "    for currency in currencies_of_interest:\n",
    "        starting_balances[currency] = starting_balances_list[counter]\n",
    "        crypto_usd_fx[currency] = crypto_usd_fx_list[counter]\n",
    "        counter += 1\n",
    "\n",
    "        starting_indicators[currency] = curr_dic[currency].iloc[0,:][[\"date\", \"Prev High\", \"Prev Low\", \"open\", \"Prev Marketcap\"]].to_frame().T\n",
    "        predictions[currency] = model_dic[\"reg_\"+currency].predict(starting_indicators[currency])\n",
    "\n",
    "    revenue = sum([crypto_usd_fx[currency]*predictions[currency] for currency in currencies_of_interest])\n",
    "    cost = sum([crypto_usd_fx[currency]*starting_balances[currency] for currency in currencies_of_interest])\n",
    "    profit = revenue - cost\n",
    "\n",
    "    counter = 0\n",
    "    return profit"
   ]
  },
  {
   "cell_type": "markdown",
   "id": "ca146ff0",
   "metadata": {},
   "source": [
    "## Portfolio Risk Calculator"
   ]
  },
  {
   "cell_type": "code",
   "execution_count": 4,
   "id": "2a247c03",
   "metadata": {},
   "outputs": [
    {
     "name": "stderr",
     "output_type": "stream",
     "text": [
      "/var/folders/pl/x69vyh_x4k9d_yy39hrx6q440000gn/T/ipykernel_3464/2413165031.py:5: UserWarning: Boolean Series key will be reindexed to match DataFrame index.\n",
      "  cleaned_all_cryptos = cleaned_all_cryptos[all_cryptos_df['date'] != \"2018-11-30\"]\n"
     ]
    }
   ],
   "source": [
    "all_cryptos_df = pd.read_csv(\"crypto-markets.csv\") #Read in project data\n",
    "all_cryptos_df.head()\n",
    "\n",
    "cleaned_all_cryptos = all_cryptos_df[all_cryptos_df['date'].str.startswith(\"2018\")] #Only use historical price data from 2018\n",
    "cleaned_all_cryptos = cleaned_all_cryptos[all_cryptos_df['date'] != \"2018-11-30\"]\n",
    "cleaned_all_cryptos['daily_returns'] = (cleaned_all_cryptos['close'] - cleaned_all_cryptos['open']) / (cleaned_all_cryptos['open']) * 100 #create daily percentage returns column\n",
    "cleaned_all_cryptos.head()\n",
    "\n",
    "names = cleaned_all_cryptos['name'].unique() #Use unique names to calculate each crypto's beta\n",
    "names = [x.lower() for x in names]"
   ]
  },
  {
   "cell_type": "code",
   "execution_count": 5,
   "id": "f97ec98b",
   "metadata": {},
   "outputs": [],
   "source": [
    "def calculate_risk(names, percentages):\n",
    "    score = 0;\n",
    "    for i in range(len(names)):\n",
    "        x = cleaned_all_cryptos[cleaned_all_cryptos['symbol'].str.lower() == names[i].lower()]['daily_returns']\n",
    "        if (x.empty):\n",
    "            print(names[i] + ' doesnt exist!')\n",
    "            return -1\n",
    "        score += percentages[i] * np.var(x)\n",
    "    for i in range(len(names)):\n",
    "        for j in range(len(names)):\n",
    "            first = cleaned_all_cryptos[cleaned_all_cryptos['symbol'].str.lower() == names[i]]\n",
    "            second = cleaned_all_cryptos[cleaned_all_cryptos['symbol'].str.lower() == names[j]]\n",
    "            if (i != j):\n",
    "                if (first.shape[0] <= second.shape[0]):\n",
    "                    arr_match = first['date']\n",
    "                    second = second[second['date'].isin(arr_match)]\n",
    "                elif (first.shape[0] > second.shape[0]):\n",
    "                    arr = second['date']\n",
    "                    first = first[first['date'].isin(arr)]\n",
    "                if len(second['date']) != len(first['date']):\n",
    "                    return -1\n",
    "                score += percentages[i] * percentages[j] * np.cov(first['daily_returns'], second['daily_returns'])[0][1]\n",
    "    return np.sqrt(score)"
   ]
  },
  {
   "cell_type": "markdown",
   "id": "b492caf1",
   "metadata": {},
   "source": [
    "## Possible Portfolio Generation"
   ]
  },
  {
   "cell_type": "code",
   "execution_count": 6,
   "id": "c1439be1",
   "metadata": {
    "scrolled": true
   },
   "outputs": [
    {
     "name": "stderr",
     "output_type": "stream",
     "text": [
      "/var/folders/pl/x69vyh_x4k9d_yy39hrx6q440000gn/T/ipykernel_3464/2536516908.py:23: RuntimeWarning: invalid value encountered in sqrt\n",
      "  return np.sqrt(score)\n"
     ]
    },
    {
     "name": "stdout",
     "output_type": "stream",
     "text": [
      "{-1: [('frgc', 'pgt', 41, 59), ('ess', 'exc', 78, 22), ('shp', 'zzc', 46, 54), ('knt', 'bsm', 65, 35), ('aka', 'hire', 38, 62), ('808', 'imp', 88, 12), ('nyex', 'wys', 18, 82), ('mero', 'mtrc', 36, 64)], 380.5: [('xmg', 'utt', 48, 52)], 282.8: [('sbd', 'suqa', 33, 67)], 301.2: [('purex', 'ss', 18, 82)], 216.3: [('btw', 'hndc', 100, 0)], 344.2: [('zeph', 'skin', 56, 44)], 413.2: [('own', 'pxi', 53, 47)], 279.6: [('tix', 'she', 35, 65)], 302.8: [('ext', 'klks', 33, 67)], 277.2: [('ufo', 'dot', 36, 64)], 416.9: [('cnt', 'omg', 95, 5)], 246.4: [('tnc', 'you', 16, 84)], 239.9: [('uis', 'hb', 88, 12)], 292.5: [('post', 'kcs', 12, 88)], 911.0: [('evx', 'rup', 30, 70)], 382.6: [('ery', 'yee', 37, 63)], 441.3: [('itz', 'ada', 49, 51)], 471.5: [('xrp', 'pnx', 43, 57)], 319.1: [('bws', 'tnc', 43, 57)], 219.9: [('vips', 'qtum', 79, 21)], 545.2: [('rte', 'opt', 58, 42)], 288.7: [('hydro', 'loki', 62, 38)], 153.5: [('twist', 'dew', 99, 1)], 655.9: [('azart', 'vulc', 67, 33)], 540.7: [('gic', 'pat', 30, 70)], 232.9: [('mct', 'ele', 87, 13)], 182.7: [('clo', 'cag', 92, 8)], 260.1: [('zeit', 'hand', 8, 92)], 219.2: [('icr', 'edn', 75, 25)], 131.8: [('dutch', 'arco', 27, 73)], 350.9: [('skin', 'mol', 41, 59)], 295.4: [('cedex', 'aeon', 94, 6)], 270.1: [('npw', 'card', 88, 12)]}\n"
     ]
    }
   ],
   "source": [
    "currencies = cleaned_all_cryptos[\"symbol\"].str.lower().unique().tolist()\n",
    "portfolio_size = 2\n",
    "risk_portfolios = {}\n",
    "for trial in range(40):\n",
    "    curr_temp = random.sample(currencies, 2)\n",
    "    weight = random.choice([i for i in range(1, 101)])\n",
    "    risk_lvl = calculate_risk([curr_temp[0], curr_temp[1]], [weight, 100-weight])\n",
    "    if pd.isna(risk_lvl) or (isinstance(risk_lvl, int) == False and isinstance(risk_lvl, float) == False):\n",
    "        risk_lvl = -1\n",
    "    if round(risk_lvl, 1) not in risk_portfolios:\n",
    "        risk_portfolios[round(risk_lvl, 1)] = [(curr_temp[0], curr_temp[1], weight, 100-weight)]\n",
    "    else: \n",
    "        risk_portfolios[round(risk_lvl, 1)].append((curr_temp[0], curr_temp[1], weight, 100-weight))\n",
    "print(risk_portfolios)"
   ]
  },
  {
   "cell_type": "markdown",
   "id": "6e80d5b7",
   "metadata": {},
   "source": [
    "## Portfolio Selection Per Risk Bucket"
   ]
  },
  {
   "cell_type": "code",
   "execution_count": 7,
   "id": "9e1e9608",
   "metadata": {},
   "outputs": [
    {
     "name": "stdout",
     "output_type": "stream",
     "text": [
      "{-1: ('frgc', 'pgt', 41, 59), 380.5: ('xmg', 'utt', 48, 52), 282.8: ('sbd', 'suqa', 33, 67), 301.2: ('purex', 'ss', 18, 82), 216.3: ('btw', 'hndc', 100, 0), 344.2: ('zeph', 'skin', 56, 44), 413.2: ('own', 'pxi', 53, 47), 279.6: ('tix', 'she', 35, 65), 302.8: ('ext', 'klks', 33, 67), 277.2: ('ufo', 'dot', 36, 64), 416.9: ('cnt', 'omg', 95, 5), 246.4: ('tnc', 'you', 16, 84), 239.9: ('uis', 'hb', 88, 12), 292.5: ('post', 'kcs', 12, 88), 911.0: ('evx', 'rup', 30, 70), 382.6: ('ery', 'yee', 37, 63), 441.3: ('itz', 'ada', 49, 51), 471.5: ('xrp', 'pnx', 43, 57), 319.1: ('bws', 'tnc', 43, 57), 219.9: ('vips', 'qtum', 79, 21), 545.2: ('rte', 'opt', 58, 42), 288.7: ('hydro', 'loki', 62, 38), 153.5: ('twist', 'dew', 99, 1), 655.9: ('azart', 'vulc', 67, 33), 540.7: ('gic', 'pat', 30, 70), 232.9: ('mct', 'ele', 87, 13), 182.7: ('clo', 'cag', 92, 8), 260.1: ('zeit', 'hand', 8, 92), 219.2: ('icr', 'edn', 75, 25), 131.8: ('dutch', 'arco', 27, 73), 350.9: ('skin', 'mol', 41, 59), 295.4: ('cedex', 'aeon', 94, 6), 270.1: ('npw', 'card', 88, 12)}\n"
     ]
    }
   ],
   "source": [
    "final_portfolios = {}\n",
    "initial_keys = []\n",
    "for risk in risk_portfolios.keys():\n",
    "    if risk != -1: initial_keys.append(risk)\n",
    "    portfolio_options = risk_portfolios[risk]\n",
    "    crypto_usd_fx_list = [1,1]\n",
    "    profit_est = -1000\n",
    "    for portfolio in portfolio_options:\n",
    "        initial_portfolio_worth = 100\n",
    "        profit_pred = profit_predictor([portfolio[0], portfolio[1]], [portfolio[2]*.01*initial_portfolio_worth, portfolio[3]*.01*initial_portfolio_worth], crypto_usd_fx_list)\n",
    "        if profit_pred > profit_est:\n",
    "            final_portfolios[risk] = portfolio\n",
    "            profit_est = profit_pred\n",
    "    profit_est = -1000\n",
    "print(final_portfolios)"
   ]
  },
  {
   "cell_type": "code",
   "execution_count": 8,
   "id": "0829c600",
   "metadata": {},
   "outputs": [
    {
     "name": "stdout",
     "output_type": "stream",
     "text": [
      "{3: ('itz', 'ada', 49, 51), 1: ('npw', 'card', 88, 12), 2: ('cedex', 'aeon', 94, 6), 10: ('evx', 'rup', 30, 70), 4: ('xrp', 'pnx', 43, 57), 5: ('gic', 'pat', 30, 70), 0: ('dutch', 'arco', 27, 73), 6: ('azart', 'vulc', 67, 33)}\n"
     ]
    }
   ],
   "source": [
    "if -1 in final_portfolios.keys(): del final_portfolios[-1]\n",
    "for risk in initial_keys:\n",
    "    scaled = round((((risk - np.min(initial_keys)) / (np.max(initial_keys - np.min(initial_keys)))) * 10) // 1)\n",
    "    final_portfolios[scaled] = final_portfolios.pop(risk)\n",
    "print(final_portfolios)"
   ]
  },
  {
   "cell_type": "code",
   "execution_count": 10,
   "id": "35a67b8d",
   "metadata": {},
   "outputs": [
    {
     "data": {
      "text/html": [
       "<div>\n",
       "<style scoped>\n",
       "    .dataframe tbody tr th:only-of-type {\n",
       "        vertical-align: middle;\n",
       "    }\n",
       "\n",
       "    .dataframe tbody tr th {\n",
       "        vertical-align: top;\n",
       "    }\n",
       "\n",
       "    .dataframe thead th {\n",
       "        text-align: right;\n",
       "    }\n",
       "</style>\n",
       "<table border=\"1\" class=\"dataframe\">\n",
       "  <thead>\n",
       "    <tr style=\"text-align: right;\">\n",
       "      <th></th>\n",
       "      <th>3</th>\n",
       "      <th>1</th>\n",
       "      <th>2</th>\n",
       "      <th>10</th>\n",
       "      <th>4</th>\n",
       "      <th>5</th>\n",
       "      <th>0</th>\n",
       "      <th>6</th>\n",
       "    </tr>\n",
       "  </thead>\n",
       "  <tbody>\n",
       "    <tr>\n",
       "      <th>0</th>\n",
       "      <td>itz</td>\n",
       "      <td>npw</td>\n",
       "      <td>cedex</td>\n",
       "      <td>evx</td>\n",
       "      <td>xrp</td>\n",
       "      <td>gic</td>\n",
       "      <td>dutch</td>\n",
       "      <td>azart</td>\n",
       "    </tr>\n",
       "    <tr>\n",
       "      <th>1</th>\n",
       "      <td>ada</td>\n",
       "      <td>card</td>\n",
       "      <td>aeon</td>\n",
       "      <td>rup</td>\n",
       "      <td>pnx</td>\n",
       "      <td>pat</td>\n",
       "      <td>arco</td>\n",
       "      <td>vulc</td>\n",
       "    </tr>\n",
       "    <tr>\n",
       "      <th>2</th>\n",
       "      <td>49</td>\n",
       "      <td>88</td>\n",
       "      <td>94</td>\n",
       "      <td>30</td>\n",
       "      <td>43</td>\n",
       "      <td>30</td>\n",
       "      <td>27</td>\n",
       "      <td>67</td>\n",
       "    </tr>\n",
       "    <tr>\n",
       "      <th>3</th>\n",
       "      <td>51</td>\n",
       "      <td>12</td>\n",
       "      <td>6</td>\n",
       "      <td>70</td>\n",
       "      <td>57</td>\n",
       "      <td>70</td>\n",
       "      <td>73</td>\n",
       "      <td>33</td>\n",
       "    </tr>\n",
       "  </tbody>\n",
       "</table>\n",
       "</div>"
      ],
      "text/plain": [
       "    3     1      2    10   4    5      0      6 \n",
       "0  itz   npw  cedex  evx  xrp  gic  dutch  azart\n",
       "1  ada  card   aeon  rup  pnx  pat   arco   vulc\n",
       "2   49    88     94   30   43   30     27     67\n",
       "3   51    12      6   70   57   70     73     33"
      ]
     },
     "execution_count": 10,
     "metadata": {},
     "output_type": "execute_result"
    }
   ],
   "source": [
    "temp = pd.DataFrame(final_portfolios, orient=\"index\")\n",
    "temp.head()"
   ]
  },
  {
   "cell_type": "code",
   "execution_count": 9,
   "id": "f4d02f30",
   "metadata": {},
   "outputs": [
    {
     "ename": "KeyboardInterrupt",
     "evalue": "",
     "output_type": "error",
     "traceback": [
      "\u001b[0;31m---------------------------------------------------------------------------\u001b[0m",
      "\u001b[0;31mKeyboardInterrupt\u001b[0m                         Traceback (most recent call last)",
      "\u001b[0;32m/var/folders/pl/x69vyh_x4k9d_yy39hrx6q440000gn/T/ipykernel_3464/1869005675.py\u001b[0m in \u001b[0;36m<module>\u001b[0;34m\u001b[0m\n\u001b[1;32m      4\u001b[0m     \u001b[0;32mexcept\u001b[0m\u001b[0;34m:\u001b[0m \u001b[0;32mreturn\u001b[0m \u001b[0;34m(\u001b[0m\u001b[0;34m'NA'\u001b[0m\u001b[0;34m,\u001b[0m \u001b[0;34m'NA'\u001b[0m\u001b[0;34m,\u001b[0m \u001b[0;36m0\u001b[0m\u001b[0;34m,\u001b[0m \u001b[0;36m0\u001b[0m\u001b[0;34m)\u001b[0m\u001b[0;34m\u001b[0m\u001b[0;34m\u001b[0m\u001b[0m\n\u001b[1;32m      5\u001b[0m \u001b[0;34m\u001b[0m\u001b[0m\n\u001b[0;32m----> 6\u001b[0;31m \u001b[0manvil\u001b[0m\u001b[0;34m.\u001b[0m\u001b[0mserver\u001b[0m\u001b[0;34m.\u001b[0m\u001b[0mwait_forever\u001b[0m\u001b[0;34m(\u001b[0m\u001b[0;34m)\u001b[0m\u001b[0;34m\u001b[0m\u001b[0;34m\u001b[0m\u001b[0m\n\u001b[0m",
      "\u001b[0;32m/usr/local/Caskroom/miniconda/base/lib/python3.8/site-packages/anvil/server.py\u001b[0m in \u001b[0;36mwait_forever\u001b[0;34m()\u001b[0m\n\u001b[1;32m    425\u001b[0m     \u001b[0m_get_connection\u001b[0m\u001b[0;34m(\u001b[0m\u001b[0;34m)\u001b[0m\u001b[0;34m\u001b[0m\u001b[0;34m\u001b[0m\u001b[0m\n\u001b[1;32m    426\u001b[0m     \u001b[0;32mwhile\u001b[0m \u001b[0;32mTrue\u001b[0m\u001b[0;34m:\u001b[0m\u001b[0;34m\u001b[0m\u001b[0;34m\u001b[0m\u001b[0m\n\u001b[0;32m--> 427\u001b[0;31m         \u001b[0mtime\u001b[0m\u001b[0;34m.\u001b[0m\u001b[0msleep\u001b[0m\u001b[0;34m(\u001b[0m\u001b[0;36m1\u001b[0m\u001b[0;34m)\u001b[0m\u001b[0;34m\u001b[0m\u001b[0;34m\u001b[0m\u001b[0m\n\u001b[0m",
      "\u001b[0;31mKeyboardInterrupt\u001b[0m: "
     ]
    }
   ],
   "source": [
    "@anvil.server.callable\n",
    "def risk_portfolio(risk):\n",
    "    try: return final_portfolios[int(risk)]\n",
    "    except: return ('NA', 'NA', 0, 0)\n",
    "    \n",
    "anvil.server.wait_forever()"
   ]
  }
 ],
 "metadata": {
  "kernelspec": {
   "display_name": "Python 3 (ipykernel)",
   "language": "python",
   "name": "python3"
  },
  "language_info": {
   "codemirror_mode": {
    "name": "ipython",
    "version": 3
   },
   "file_extension": ".py",
   "mimetype": "text/x-python",
   "name": "python",
   "nbconvert_exporter": "python",
   "pygments_lexer": "ipython3",
   "version": "3.8.5"
  }
 },
 "nbformat": 4,
 "nbformat_minor": 5
}
