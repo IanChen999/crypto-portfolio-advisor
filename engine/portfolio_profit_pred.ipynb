{
 "cells": [
  {
   "cell_type": "code",
   "execution_count": 14,
   "id": "0d1fee80",
   "metadata": {},
   "outputs": [
    {
     "name": "stdout",
     "output_type": "stream",
     "text": [
      "Requirement already satisfied: seaborn in /usr/local/lib/python3.9/site-packages (0.11.2)\n",
      "Requirement already satisfied: matplotlib>=2.2 in /usr/local/lib/python3.9/site-packages (from seaborn) (3.4.3)\n",
      "Requirement already satisfied: numpy>=1.15 in /usr/local/lib/python3.9/site-packages (from seaborn) (1.19.5)\n",
      "Requirement already satisfied: pandas>=0.23 in /usr/local/lib/python3.9/site-packages (from seaborn) (1.2.1)\n",
      "Requirement already satisfied: scipy>=1.0 in /usr/local/lib/python3.9/site-packages (from seaborn) (1.7.1)\n",
      "Requirement already satisfied: pillow>=6.2.0 in /usr/local/lib/python3.9/site-packages (from matplotlib>=2.2->seaborn) (8.3.2)\n",
      "Requirement already satisfied: pyparsing>=2.2.1 in /usr/local/lib/python3.9/site-packages (from matplotlib>=2.2->seaborn) (2.4.7)\n",
      "Requirement already satisfied: cycler>=0.10 in /usr/local/lib/python3.9/site-packages (from matplotlib>=2.2->seaborn) (0.10.0)\n",
      "Requirement already satisfied: python-dateutil>=2.7 in /usr/local/lib/python3.9/site-packages (from matplotlib>=2.2->seaborn) (2.8.1)\n",
      "Requirement already satisfied: kiwisolver>=1.0.1 in /usr/local/lib/python3.9/site-packages (from matplotlib>=2.2->seaborn) (1.3.2)\n",
      "Requirement already satisfied: six in /usr/local/lib/python3.9/site-packages (from cycler>=0.10->matplotlib>=2.2->seaborn) (1.15.0)\n",
      "Requirement already satisfied: pytz>=2017.3 in /usr/local/lib/python3.9/site-packages (from pandas>=0.23->seaborn) (2020.5)\n",
      "\u001b[33mWARNING: You are using pip version 20.3.3; however, version 21.3.1 is available.\n",
      "You should consider upgrading via the '/usr/local/opt/python@3.9/bin/python3.9 -m pip install --upgrade pip' command.\u001b[0m\n"
     ]
    }
   ],
   "source": [
    "import pandas as pd\n",
    "import numpy as np\n",
    "from datetime import date\n",
    "from sklearn.model_selection import train_test_split\n",
    "from sklearn.linear_model import LinearRegression\n",
    "from sklearn.metrics import mean_squared_error\n",
    "import matplotlib.pyplot as plt\n",
    "!pip3 install seaborn\n",
    "import seaborn as sns"
   ]
  },
  {
   "cell_type": "code",
   "execution_count": 15,
   "id": "de3c8e48",
   "metadata": {},
   "outputs": [],
   "source": [
    "df = pd.read_csv(\"crypto-markets.csv\")"
   ]
  },
  {
   "cell_type": "code",
   "execution_count": 20,
   "id": "bcdfdd73",
   "metadata": {},
   "outputs": [],
   "source": [
    "currencies_of_interest = [\"BTC\", \"XRP\"]\n",
    "starting_balances_list = [5, 20]\n",
    "crypto_usd_fx_list = [65000, 1.1]\n",
    "\n",
    "curr_dic = {}\n",
    "for currency in currencies_of_interest:\n",
    "    curr_dic[currency] = df.loc[df[\"symbol\"]==currency,:].copy()\n",
    "    curr_dic[currency].reset_index(inplace=True, drop=True)\n",
    "# df_btc = df.loc[df[\"symbol\"]=='BTC',:].copy()\n",
    "# df_xrp = df.loc[df[\"symbol\"]=='XRP',:].copy()"
   ]
  },
  {
   "cell_type": "code",
   "execution_count": 21,
   "id": "0ec3405c",
   "metadata": {},
   "outputs": [
    {
     "name": "stdout",
     "output_type": "stream",
     "text": [
      "  date    open  Prev High  Prev Low   Close  Prev Marketcap\n",
      "1    0  134.44     147.49    132.10  134.21    1.603769e+09\n",
      "2    1  144.00     146.93    134.00  144.54    1.542813e+09\n",
      "3    2  139.00     139.89    134.05  139.00    1.298955e+09\n",
      "4    3  116.38     125.60    107.72  116.99    1.168517e+09\n",
      "5    4  106.25     108.13     92.28  105.21    1.085995e+09\n",
      "  date      open  Prev High  Prev Low     Close  Prev Marketcap\n",
      "1    0  0.005875   0.005980  0.005874  0.005882      43879157.0\n",
      "2    1  0.005637   0.005661  0.005613  0.005613      36591008.0\n",
      "3    2  0.004669   0.004682  0.004629  0.004680      34534121.0\n",
      "4    3  0.004397   0.004424  0.004333  0.004417      33258632.0\n",
      "5    4  0.004257   0.004367  0.004175  0.004254      33547503.0\n"
     ]
    }
   ],
   "source": [
    "for currency in currencies_of_interest:\n",
    "    # Restructure data so that date, open, past market cap(s), past high/low(s) are used to predict close price\n",
    "    no_rows = curr_dic[currency].shape[0]\n",
    "    for row in range(no_rows - 1):\n",
    "        curr_dic[currency].iloc[no_rows - 1 - row, 7] = curr_dic[currency].iloc[no_rows - 1 - row - 1, 7]\n",
    "        curr_dic[currency].iloc[no_rows - 1 - row, 8] = curr_dic[currency].iloc[no_rows - 1 - row - 1, 8]\n",
    "        curr_dic[currency].iloc[no_rows - 1 - row, 11] = curr_dic[currency].iloc[no_rows - 1 - row - 1, 11]\n",
    "        curr_dic[currency].iloc[no_rows - 1 - row, 4] = curr_dic[currency].iloc[no_rows - 1 - row - 1, 4]\n",
    "    curr_dic[currency].drop(0, axis=0, inplace=True)\n",
    "    curr_dic[currency].drop(columns=[\"slug\", \"symbol\", \"name\", \"ranknow\", \"close_ratio\", \"spread\", \"volume\"], inplace=True)\n",
    "    curr_dic[currency].rename(columns={\"high\": \"Prev High\", \"low\": \"Prev Low\", \"market\": \"Prev Marketcap\", \"close\": \"Close\"}, inplace=True)\n",
    "\n",
    "    # Change date column into an integer for number of days since start date\n",
    "    date_null = date.fromisoformat(curr_dic[currency].iloc[0, 0])\n",
    "    for row in range(no_rows - 1):\n",
    "        date = date.fromisoformat(curr_dic[currency].iloc[row, 0])\n",
    "        curr_dic[currency].iloc[row, 0] = (date - date_null).days\n",
    "        \n",
    "    print(curr_dic[currency].head())\n",
    "    \n",
    "# no_rows = df_btc.shape[0]\n",
    "# for row in range(no_rows - 1):\n",
    "#     df_btc.iloc[no_rows - 1 - row, 7] = df_btc.iloc[no_rows - 1 - row - 1, 7]\n",
    "#     df_btc.iloc[no_rows - 1 - row, 8] = df_btc.iloc[no_rows - 1 - row - 1, 8]\n",
    "#     df_btc.iloc[no_rows - 1 - row, 11] = df_btc.iloc[no_rows - 1 - row - 1, 11]\n",
    "#     df_btc.iloc[no_rows - 1 - row, 4] = df_btc.iloc[no_rows - 1 - row - 1, 4]\n",
    "# df_btc = df_btc.drop(0, axis=0)\n",
    "# df_btc = df_btc.drop(columns=[\"slug\", \"symbol\", \"name\", \"ranknow\", \"close_ratio\", \"spread\", \"volume\"])\n",
    "# df_btc = df_btc.rename(columns={\"high\": \"Prev High\", \"low\": \"Prev Low\", \"market\": \"Prev Marketcap\", \"close\": \"Close\"})\n",
    "\n",
    "# Change date column into an integer for number of days since start date\n",
    "# date_null = date.fromisoformat(df_btc.iloc[0, 0])\n",
    "# for row in range(no_rows - 1):\n",
    "#     date = date.fromisoformat(df_btc.iloc[row, 0])\n",
    "#     df_btc.iloc[row, 0] = (date - date_null).days\n",
    "\n",
    "# df_btc.head()"
   ]
  },
  {
   "cell_type": "code",
   "execution_count": null,
   "id": "798f8f17",
   "metadata": {},
   "outputs": [],
   "source": [
    "# # Restructure data so that date, open, past market cap(s), past high/low(s) are used to predict close price\n",
    "# no_rows = df_xrp.shape[0]\n",
    "# for row in range(no_rows - 1):\n",
    "#     df_xrp.iloc[no_rows - 1 - row, 7] = df_xrp.iloc[no_rows - 1 - row - 1, 7]\n",
    "#     df_xrp.iloc[no_rows - 1 - row, 8] = df_xrp.iloc[no_rows - 1 - row - 1, 8]\n",
    "#     df_xrp.iloc[no_rows - 1 - row, 11] = df_xrp.iloc[no_rows - 1 - row - 1, 11]\n",
    "#     df_xrp.iloc[no_rows - 1 - row, 4] = df_xrp.iloc[no_rows - 1 - row - 1, 4]\n",
    "# df_xrp = df_xrp.drop(2042, axis=0)\n",
    "# df_xrp = df_xrp.drop(columns=[\"slug\", \"symbol\", \"name\", \"ranknow\", \"close_ratio\", \"spread\", \"volume\"])\n",
    "# df_xrp = df_xrp.rename(columns={\"high\": \"Prev High\", \"low\": \"Prev Low\", \"market\": \"Prev Marketcap\", \"close\": \"Close\"})\n",
    "\n",
    "# # Change date column into an integer for number of days since start date\n",
    "# date_null = date.fromisoformat(df_xrp.iloc[0, 0])\n",
    "# for row in range(no_rows - 1):\n",
    "#     date = date.fromisoformat(df_xrp.iloc[row, 0])\n",
    "#     df_xrp.iloc[row, 0] = (date - date_null).days\n",
    "\n",
    "# df_xrp.head()"
   ]
  },
  {
   "cell_type": "code",
   "execution_count": 22,
   "id": "cbab476d",
   "metadata": {},
   "outputs": [],
   "source": [
    "# Split into training and test sets\n",
    "set_dic = {}\n",
    "for currency in currencies_of_interest:\n",
    "    set_dic[\"train_\"+currency], set_dic[\"val_\"+currency] = train_test_split(\n",
    "        curr_dic[currency][[\"date\", \"Prev High\", \"Prev Low\", \"open\", \"Prev Marketcap\", \"Close\"]], \n",
    "        test_size=0.33, random_state=1234)\n",
    "    set_dic[\"X_train_\"+currency] = set_dic[\"train_\"+currency][[\"date\", \"Prev High\", \"Prev Low\", \"open\", \"Prev Marketcap\"]]\n",
    "    set_dic[\"X_test_\"+currency] = set_dic[\"val_\"+currency][[\"date\", \"Prev High\", \"Prev Low\", \"open\", \"Prev Marketcap\"]]\n",
    "    set_dic[\"Y_train_\"+currency] = set_dic[\"train_\"+currency][\"Close\"]\n",
    "    set_dic[\"Y_test_\"+currency] = set_dic[\"val_\"+currency][\"Close\"]\n",
    "\n",
    "# # Split into training and test sets\n",
    "# train_btc, val_btc = train_test_split(\n",
    "#     df_btc[[\"date\", \"Prev High\", \"Prev Low\", \"open\", \"Prev Marketcap\", \"Close\"]], \n",
    "#     test_size=0.33, random_state=1234)\n",
    "# X_train_btc = train_btc[[\"date\", \"Prev High\", \"Prev Low\", \"open\", \"Prev Marketcap\"]]\n",
    "# X_test_btc = val_btc[[\"date\", \"Prev High\", \"Prev Low\", \"open\", \"Prev Marketcap\"]]\n",
    "# Y_train_btc = train_btc[\"Close\"]\n",
    "# Y_test_btc = val_btc[\"Close\"]\n",
    "\n",
    "# train_xrp, val_xrp = train_test_split(\n",
    "#     df_xrp[[\"date\", \"Prev High\", \"Prev Low\", \"open\", \"Prev Marketcap\", \"Close\"]], \n",
    "#     test_size=0.33, random_state=1234)\n",
    "# X_train_xrp = train_xrp[[\"date\", \"Prev High\", \"Prev Low\", \"open\", \"Prev Marketcap\"]]\n",
    "# X_test_xrp = val_xrp[[\"date\", \"Prev High\", \"Prev Low\", \"open\", \"Prev Marketcap\"]]\n",
    "# Y_train_xrp = train_xrp[\"Close\"]\n",
    "# Y_test_xrp = val_xrp[\"Close\"]"
   ]
  },
  {
   "cell_type": "code",
   "execution_count": 23,
   "id": "1316fd07",
   "metadata": {},
   "outputs": [
    {
     "name": "stdout",
     "output_type": "stream",
     "text": [
      "RMSE BTC: 11.097708184905635\n",
      "RMSE XRP: 0.0019308521474138089\n"
     ]
    }
   ],
   "source": [
    "# Basic linear regression seems to have lower RMSE which is interesting and unexpected\n",
    "# Not using accuracy as a performance measure because I am predicting a continuous variable\n",
    "model_dic = {}\n",
    "for currency in currencies_of_interest:\n",
    "    model_dic[currency] = LinearRegression()\n",
    "    model_dic[\"reg_\"+currency] = model_dic[currency].fit(set_dic[\"X_train_\"+currency], set_dic[\"Y_train_\"+currency])\n",
    "    y_pred_btc = model_dic[\"reg_\"+currency].predict(set_dic[\"X_test_\"+currency])\n",
    "    print(\"RMSE \" + currency + \": \" + str(mean_squared_error(set_dic[\"Y_test_\"+currency], y_pred_btc) ** 0.5))\n",
    "\n",
    "# # Basic linear regression seems to have lower RMSE which is interesting and unexpected\n",
    "# # Not using accuracy as a performance measure because I am predicting a continuous variable\n",
    "# model_btc = LinearRegression()\n",
    "# reg_btc = model_btc.fit(X_train_btc, Y_train_btc)\n",
    "# y_pred_btc = reg_btc.predict(X_test_btc)\n",
    "# print(\"RMSE BTC: \" + str(mean_squared_error(Y_test_btc, y_pred_btc) ** 0.5))\n",
    "\n",
    "# model_xrp = LinearRegression()\n",
    "# reg_xrp = model_xrp.fit(X_train_xrp, Y_train_xrp)\n",
    "# y_pred_xrp = reg_xrp.predict(X_test_xrp)\n",
    "# print(\"RMSE XRP: \" + str(mean_squared_error(Y_test_xrp, y_pred_xrp) ** 0.5))"
   ]
  },
  {
   "cell_type": "code",
   "execution_count": 28,
   "id": "d561e869",
   "metadata": {},
   "outputs": [
    {
     "name": "stdout",
     "output_type": "stream",
     "text": [
      "Profit: 8414005.413680386\n"
     ]
    }
   ],
   "source": [
    "starting_balances = {}\n",
    "crypto_usd_fx = {}\n",
    "starting_indicators = {}\n",
    "predictions = {}\n",
    "counter = 0\n",
    "\n",
    "for currency in currencies_of_interest:\n",
    "    starting_balances[currency] = starting_balances_list[counter]\n",
    "    crypto_usd_fx[currency] = crypto_usd_fx_list[counter]\n",
    "    counter += 1\n",
    "    \n",
    "    starting_indicators[currency] = curr_dic[currency].iloc[0,:][[\"date\", \"Prev High\", \"Prev Low\", \"open\", \"Prev Marketcap\"]].to_frame().T\n",
    "    predictions[currency] = model_dic[\"reg_\"+currency].predict(starting_indicators[currency])\n",
    "    \n",
    "revenue = sum([crypto_usd_fx[currency]*predictions[currency] for currency in currencies_of_interest])\n",
    "cost = sum([crypto_usd_fx[currency]*starting_balances[currency] for currency in currencies_of_interest])\n",
    "profit = revenue - cost\n",
    "print(\"Profit: \" + str(profit[0]))\n",
    "\n",
    "counter = 0 \n",
    "   \n",
    "# starting_btc_indicators = df_btc.iloc[0,:][[\"date\", \"Prev High\", \"Prev Low\", \"open\", \"Prev Marketcap\"]].to_frame().T\n",
    "# starting_xrp_indicators = df_xrp.iloc[0,:][[\"date\", \"Prev High\", \"Prev Low\", \"open\", \"Prev Marketcap\"]].to_frame().T\n",
    "\n",
    "# sample_btc_pred = reg_btc.predict(starting_btc_indicators)\n",
    "# sample_xrp_pred = reg_xrp.predict(starting_xrp_indicators)\n",
    "\n",
    "# revenue = (sample_btc_pred * btc_usd_fx) + (sample_xrp_pred * xrp_usd_fx)\n",
    "# cost = (starting_btc * btc_usd_fx) + (starting_xrp * xrp_usd_fx)\n",
    "# profit = revenue - cost\n",
    "# print(\"Profit: \" + str(profit[0]))"
   ]
  },
  {
   "cell_type": "code",
   "execution_count": null,
   "id": "132ffde0",
   "metadata": {},
   "outputs": [],
   "source": [
    "# 8414005.413680386"
   ]
  }
 ],
 "metadata": {
  "kernelspec": {
   "display_name": "Python 3 (ipykernel)",
   "language": "python",
   "name": "python3"
  },
  "language_info": {
   "codemirror_mode": {
    "name": "ipython",
    "version": 3
   },
   "file_extension": ".py",
   "mimetype": "text/x-python",
   "name": "python",
   "nbconvert_exporter": "python",
   "pygments_lexer": "ipython3",
   "version": "3.8.5"
  }
 },
 "nbformat": 4,
 "nbformat_minor": 5
}
