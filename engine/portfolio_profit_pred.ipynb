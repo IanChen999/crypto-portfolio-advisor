{
 "cells": [
  {
   "cell_type": "code",
<<<<<<< HEAD
   "execution_count": 16,
=======
   "execution_count": 37,
>>>>>>> e71c78cc7bf2bd5c390f9642792e53c9775e48b7
   "id": "0d1fee80",
   "metadata": {},
   "outputs": [
    {
     "name": "stdout",
     "output_type": "stream",
     "text": [
<<<<<<< HEAD
      "Requirement already satisfied: seaborn in /usr/local/lib/python3.9/site-packages (0.11.2)\n",
      "Requirement already satisfied: scipy>=1.0 in /usr/local/lib/python3.9/site-packages (from seaborn) (1.7.1)\n",
      "Requirement already satisfied: pandas>=0.23 in /usr/local/lib/python3.9/site-packages (from seaborn) (1.2.1)\n",
      "Requirement already satisfied: numpy>=1.15 in /usr/local/lib/python3.9/site-packages (from seaborn) (1.19.5)\n",
      "Requirement already satisfied: matplotlib>=2.2 in /usr/local/lib/python3.9/site-packages (from seaborn) (3.4.3)\n",
      "Requirement already satisfied: cycler>=0.10 in /usr/local/lib/python3.9/site-packages (from matplotlib>=2.2->seaborn) (0.10.0)\n",
      "Requirement already satisfied: pyparsing>=2.2.1 in /usr/local/lib/python3.9/site-packages (from matplotlib>=2.2->seaborn) (2.4.7)\n",
      "Requirement already satisfied: python-dateutil>=2.7 in /usr/local/lib/python3.9/site-packages (from matplotlib>=2.2->seaborn) (2.8.1)\n",
      "Requirement already satisfied: pillow>=6.2.0 in /usr/local/lib/python3.9/site-packages (from matplotlib>=2.2->seaborn) (8.3.2)\n",
      "Requirement already satisfied: kiwisolver>=1.0.1 in /usr/local/lib/python3.9/site-packages (from matplotlib>=2.2->seaborn) (1.3.2)\n",
      "Requirement already satisfied: six in /usr/local/lib/python3.9/site-packages (from cycler>=0.10->matplotlib>=2.2->seaborn) (1.15.0)\n",
      "Requirement already satisfied: pytz>=2017.3 in /usr/local/lib/python3.9/site-packages (from pandas>=0.23->seaborn) (2020.5)\n",
      "\u001b[33mWARNING: You are using pip version 20.3.3; however, version 21.3.1 is available.\n",
      "You should consider upgrading via the '/usr/local/opt/python@3.9/bin/python3.9 -m pip install --upgrade pip' command.\u001b[0m\n"
=======
      "Requirement already satisfied: seaborn in /Users/ianchen/miniconda3/lib/python3.9/site-packages (0.11.2)\n",
      "Requirement already satisfied: scipy>=1.0 in /Users/ianchen/miniconda3/lib/python3.9/site-packages (from seaborn) (1.7.1)\n",
      "Requirement already satisfied: pandas>=0.23 in /Users/ianchen/miniconda3/lib/python3.9/site-packages (from seaborn) (1.3.3)\n",
      "Requirement already satisfied: numpy>=1.15 in /Users/ianchen/miniconda3/lib/python3.9/site-packages (from seaborn) (1.21.2)\n",
      "Requirement already satisfied: matplotlib>=2.2 in /Users/ianchen/miniconda3/lib/python3.9/site-packages (from seaborn) (3.4.3)\n",
      "Requirement already satisfied: pillow>=6.2.0 in /Users/ianchen/miniconda3/lib/python3.9/site-packages (from matplotlib>=2.2->seaborn) (8.4.0)\n",
      "Requirement already satisfied: python-dateutil>=2.7 in /Users/ianchen/miniconda3/lib/python3.9/site-packages (from matplotlib>=2.2->seaborn) (2.8.2)\n",
      "Requirement already satisfied: kiwisolver>=1.0.1 in /Users/ianchen/miniconda3/lib/python3.9/site-packages (from matplotlib>=2.2->seaborn) (1.3.2)\n",
      "Requirement already satisfied: cycler>=0.10 in /Users/ianchen/miniconda3/lib/python3.9/site-packages (from matplotlib>=2.2->seaborn) (0.10.0)\n",
      "Requirement already satisfied: pyparsing>=2.2.1 in /Users/ianchen/miniconda3/lib/python3.9/site-packages (from matplotlib>=2.2->seaborn) (2.4.7)\n",
      "Requirement already satisfied: six in /Users/ianchen/miniconda3/lib/python3.9/site-packages (from cycler>=0.10->matplotlib>=2.2->seaborn) (1.16.0)\n",
      "Requirement already satisfied: pytz>=2017.3 in /Users/ianchen/miniconda3/lib/python3.9/site-packages (from pandas>=0.23->seaborn) (2021.3)\n"
>>>>>>> e71c78cc7bf2bd5c390f9642792e53c9775e48b7
     ]
    }
   ],
   "source": [
    "import pandas as pd\n",
    "import numpy as np\n",
    "from datetime import date\n",
    "from sklearn.model_selection import train_test_split\n",
    "from sklearn.linear_model import LinearRegression\n",
    "from sklearn.metrics import mean_squared_error\n",
    "import matplotlib.pyplot as plt\n",
    "!pip3 install seaborn\n",
    "import seaborn as sns"
   ]
  },
  {
   "cell_type": "code",
<<<<<<< HEAD
   "execution_count": 17,
=======
   "execution_count": 38,
>>>>>>> e71c78cc7bf2bd5c390f9642792e53c9775e48b7
   "id": "de3c8e48",
   "metadata": {},
   "outputs": [],
   "source": [
    "df = pd.read_csv(\"crypto-markets.csv\")"
   ]
  },
  {
   "cell_type": "code",
<<<<<<< HEAD
   "execution_count": 18,
=======
   "execution_count": 39,
>>>>>>> e71c78cc7bf2bd5c390f9642792e53c9775e48b7
   "id": "bcdfdd73",
   "metadata": {},
   "outputs": [
    {
     "name": "stdout",
     "output_type": "stream",
     "text": [
      "      slug symbol     name        date  ranknow    open    high     low  \\\n",
      "0  bitcoin    BTC  Bitcoin  2013-04-28        1  135.30  135.98  132.10   \n",
      "1  bitcoin    BTC  Bitcoin  2013-04-29        1  134.44  147.49  134.00   \n",
      "2  bitcoin    BTC  Bitcoin  2013-04-30        1  144.00  146.93  134.05   \n",
      "3  bitcoin    BTC  Bitcoin  2013-05-01        1  139.00  139.89  107.72   \n",
      "4  bitcoin    BTC  Bitcoin  2013-05-02        1  116.38  125.60   92.28   \n",
      "\n",
      "    close  volume        market  close_ratio  spread  \n",
      "0  134.21     0.0  1.488567e+09       0.5438    3.88  \n",
      "1  144.54     0.0  1.603769e+09       0.7813   13.49  \n",
      "2  139.00     0.0  1.542813e+09       0.3843   12.88  \n",
      "3  116.99     0.0  1.298955e+09       0.2882   32.17  \n",
      "4  105.21     0.0  1.168517e+09       0.3881   33.32  \n",
      "     slug symbol name        date  ranknow      open      high       low  \\\n",
      "0  ripple    XRP  XRP  2013-08-04        2  0.005874  0.005927  0.005874   \n",
      "1  ripple    XRP  XRP  2013-08-05        2  0.005875  0.005980  0.005613   \n",
      "2  ripple    XRP  XRP  2013-08-06        2  0.005637  0.005661  0.004629   \n",
      "3  ripple    XRP  XRP  2013-08-07        2  0.004669  0.004682  0.004333   \n",
      "4  ripple    XRP  XRP  2013-08-08        2  0.004397  0.004424  0.004175   \n",
      "\n",
      "      close  volume      market  close_ratio  spread  \n",
      "0  0.005882     0.0  45983577.0       0.1509     0.0  \n",
      "1  0.005613     0.0  43879157.0       0.0000     0.0  \n",
      "2  0.004680     0.0  36591008.0       0.0494     0.0  \n",
      "3  0.004417     0.0  34534121.0       0.2407     0.0  \n",
      "4  0.004254     0.0  33258632.0       0.3173     0.0  \n"
     ]
    }
   ],
   "source": [
    "currencies_of_interest = [\"BTC\", \"XRP\"]\n",
    "starting_balances_list = [5, 20]\n",
    "crypto_usd_fx_list = [65000, 1.1]\n",
    "\n",
    "curr_dic = {}\n",
    "for currency in currencies_of_interest:\n",
    "    curr_dic[currency] = df.loc[df[\"symbol\"]==currency,:].copy()\n",
    "    curr_dic[currency].reset_index(inplace=True, drop=True)\n",
    "    print(curr_dic[currency].head())"
   ]
  },
  {
   "cell_type": "code",
<<<<<<< HEAD
   "execution_count": 19,
=======
   "execution_count": 40,
>>>>>>> e71c78cc7bf2bd5c390f9642792e53c9775e48b7
   "id": "0ec3405c",
   "metadata": {},
   "outputs": [
    {
     "name": "stdout",
     "output_type": "stream",
     "text": [
      "  date    open  Prev High  Prev Low   Close  Prev Marketcap\n",
      "1    0  134.44     135.98    132.10  144.54    1.488567e+09\n",
      "2    1  144.00     147.49    134.00  139.00    1.603769e+09\n",
      "3    2  139.00     146.93    134.05  116.99    1.542813e+09\n",
      "4    3  116.38     139.89    107.72  105.21    1.298955e+09\n",
      "5    4  106.25     125.60     92.28   97.75    1.168517e+09\n",
      "  date      open  Prev High  Prev Low     Close  Prev Marketcap\n",
      "1    0  0.005875   0.005927  0.005874  0.005613      45983577.0\n",
      "2    1  0.005637   0.005980  0.005613  0.004680      43879157.0\n",
      "3    2  0.004669   0.005661  0.004629  0.004417      36591008.0\n",
      "4    3  0.004397   0.004682  0.004333  0.004254      34534121.0\n",
      "5    4  0.004257   0.004424  0.004175  0.004291      33258632.0\n"
     ]
    }
   ],
   "source": [
    "for currency in currencies_of_interest:\n",
    "    # Restructure data so that date, open, past market cap(s), past high/low(s) are used to predict close price\n",
    "    no_rows = curr_dic[currency].shape[0]\n",
    "    for row in range(no_rows - 1):\n",
    "        curr_dic[currency].iloc[no_rows - 1 - row, 6] = curr_dic[currency].iloc[no_rows - 1 - row - 1, 6]\n",
    "        curr_dic[currency].iloc[no_rows - 1 - row, 7] = curr_dic[currency].iloc[no_rows - 1 - row - 1, 7]\n",
    "        curr_dic[currency].iloc[no_rows - 1 - row, 10] = curr_dic[currency].iloc[no_rows - 1 - row - 1, 10]\n",
    "    curr_dic[currency].drop(0, axis=0, inplace=True)\n",
    "    curr_dic[currency].drop(columns=[\"slug\", \"symbol\", \"name\", \"ranknow\", \"close_ratio\", \"spread\", \"volume\"], inplace=True)\n",
    "    curr_dic[currency].rename(columns={\"high\": \"Prev High\", \"low\": \"Prev Low\", \"market\": \"Prev Marketcap\", \"close\": \"Close\"}, inplace=True)\n",
    "\n",
    "    # Change date column into an integer for number of days since start date\n",
    "    date_null = date.fromisoformat(curr_dic[currency].iloc[0, 0])\n",
    "    for row in range(no_rows - 1):\n",
    "        date = date.fromisoformat(curr_dic[currency].iloc[row, 0])\n",
    "        curr_dic[currency].iloc[row, 0] = (date - date_null).days\n",
    "        \n",
    "    print(curr_dic[currency].head())"
   ]
  },
  {
   "cell_type": "code",
<<<<<<< HEAD
   "execution_count": 20,
=======
   "execution_count": 41,
>>>>>>> e71c78cc7bf2bd5c390f9642792e53c9775e48b7
   "id": "cbab476d",
   "metadata": {},
   "outputs": [],
   "source": [
    "# Split into training and test sets\n",
    "set_dic = {}\n",
    "for currency in currencies_of_interest:\n",
    "    set_dic[\"train_\"+currency], set_dic[\"val_\"+currency] = train_test_split(\n",
    "        curr_dic[currency][[\"date\", \"Prev High\", \"Prev Low\", \"open\", \"Prev Marketcap\", \"Close\"]], \n",
    "        test_size=0.33, random_state=1234)\n",
    "    set_dic[\"X_train_\"+currency] = set_dic[\"train_\"+currency][[\"date\", \"Prev High\", \"Prev Low\", \"open\", \"Prev Marketcap\"]]\n",
    "    set_dic[\"X_test_\"+currency] = set_dic[\"val_\"+currency][[\"date\", \"Prev High\", \"Prev Low\", \"open\", \"Prev Marketcap\"]]\n",
    "    set_dic[\"Y_train_\"+currency] = set_dic[\"train_\"+currency][\"Close\"]\n",
    "    set_dic[\"Y_test_\"+currency] = set_dic[\"val_\"+currency][\"Close\"]"
   ]
  },
  {
   "cell_type": "code",
<<<<<<< HEAD
   "execution_count": 21,
=======
   "execution_count": 46,
>>>>>>> e71c78cc7bf2bd5c390f9642792e53c9775e48b7
   "id": "1316fd07",
   "metadata": {},
   "outputs": [
    {
     "name": "stdout",
     "output_type": "stream",
     "text": [
      "RMSE BTC: 292.3605500168556\n",
      "RMSE XRP: 0.0251012486948646\n"
     ]
    }
   ],
   "source": [
    "# Basic linear regression seems to have lower RMSE which is interesting and unexpected\n",
    "# Not using accuracy as a performance measure because I am predicting a continuous variable\n",
    "model_dic = {}\n",
    "for currency in currencies_of_interest:\n",
    "    model_dic[currency] = LinearRegression()\n",
    "    model_dic[\"reg_\"+currency] = model_dic[currency].fit(set_dic[\"X_train_\"+currency], set_dic[\"Y_train_\"+currency])\n",
    "    y_pred_btc = model_dic[\"reg_\"+currency].predict(set_dic[\"X_test_\"+currency])\n",
    "    print(\"RMSE \" + currency + \": \" + str(mean_squared_error(set_dic[\"Y_test_\"+currency], y_pred_btc) ** 0.5))"
   ]
  },
  {
   "cell_type": "code",
<<<<<<< HEAD
   "execution_count": 22,
=======
   "execution_count": 64,
   "id": "02480789",
   "metadata": {},
   "outputs": [
    {
     "name": "stdout",
     "output_type": "stream",
     "text": [
      "Accuracy is: 99.2444 %\n"
     ]
    }
   ],
   "source": [
    "# Random forest for btc\n",
    "from sklearn.ensemble import RandomForestRegressor\n",
    "reg=RandomForestRegressor(n_estimators=200,random_state=101)\n",
    "reg.fit(set_dic[\"X_train_BTC\"],set_dic[\"Y_train_BTC\"])\n",
    "accuracy=reg.score(set_dic[\"X_test_BTC\"],set_dic[\"Y_test_BTC\"])\n",
    "accuracy=accuracy*100\n",
    "accuracy = float(\"{0:.4f}\".format(accuracy))\n",
    "print('Accuracy is:',accuracy,'%')"
   ]
  },
  {
   "cell_type": "code",
   "execution_count": 55,
   "id": "41dd5fed",
   "metadata": {},
   "outputs": [
    {
     "name": "stdout",
     "output_type": "stream",
     "text": [
      "The prediction is: 1074.9972499999997 But the real value is: 144.54\n"
     ]
    }
   ],
   "source": [
    "preds = reg.predict(set_dic[\"X_test_BTC\"])\n",
    "print(\"The prediction is:\",preds[1],\"But the real value is:\" ,set_dic[\"Y_test_BTC\"][1])"
   ]
  },
  {
   "cell_type": "code",
   "execution_count": 60,
   "id": "9c2c73ce",
   "metadata": {},
   "outputs": [
    {
     "data": {
      "text/plain": [
       "(               open    close     high      low  close_nextday\n",
       " date                                                         \n",
       " 2013-04-28   135.30   134.21   135.98   132.10         144.54\n",
       " 2013-04-29   134.44   144.54   147.49   134.00         139.00\n",
       " 2013-04-30   144.00   139.00   146.93   134.05         116.99\n",
       " 2013-05-01   139.00   116.99   139.89   107.72         105.21\n",
       " 2013-05-02   116.38   105.21   125.60    92.28          97.75\n",
       " ...             ...      ...      ...      ...            ...\n",
       " 2018-11-25  3880.78  4009.97  4120.87  3585.06        3779.13\n",
       " 2018-11-26  4015.07  3779.13  4107.14  3643.92        3820.72\n",
       " 2018-11-27  3765.95  3820.72  3862.96  3661.01        4257.42\n",
       " 2018-11-28  3822.47  4257.42  4385.90  3822.47        4278.85\n",
       " 2018-11-29  4269.00  4278.85  4413.02  4145.77           0.00\n",
       " \n",
       " [2042 rows x 5 columns],\n",
       "                open    close     high      low\n",
       " date                                          \n",
       " 2018-04-02  6844.86  7083.80  7135.47  6816.58\n",
       " 2018-04-03  7102.26  7456.11  7530.94  7072.49\n",
       " 2018-04-04  7456.41  6853.84  7469.88  6803.88\n",
       " 2018-04-05  6848.65  6811.47  6933.82  6644.80\n",
       " 2018-04-06  6815.96  6636.32  6857.49  6575.00\n",
       " ...             ...      ...      ...      ...\n",
       " 2018-11-25  3880.78  4009.97  4120.87  3585.06\n",
       " 2018-11-26  4015.07  3779.13  4107.14  3643.92\n",
       " 2018-11-27  3765.95  3820.72  3862.96  3661.01\n",
       " 2018-11-28  3822.47  4257.42  4385.90  3822.47\n",
       " 2018-11-29  4269.00  4278.85  4413.02  4145.77\n",
       " \n",
       " [242 rows x 4 columns])"
      ]
     },
     "execution_count": 60,
     "metadata": {},
     "output_type": "execute_result"
    }
   ],
   "source": [
    "#Ad boost for btc\n",
    "\n",
    "df_new = pd.read_csv(\"crypto-markets.csv\")\n",
    "bitcoin_df = pd.DataFrame(df.loc[df.name ==\"Bitcoin\", [\"date\", \"open\", \"close\", \"high\", \"low\"]]).set_index(\"date\")\n",
    "bitcoin_df[\"close_nextday\"] = bitcoin_df[\"close\"].shift(periods = -1, fill_value = 0)\n",
    "temp = bitcoin_df[[\"open\", \"close\", \"high\", \"low\"]]\n",
    "temp = temp[1800:]\n",
    "bitcoin_df, temp"
   ]
  },
  {
   "cell_type": "code",
   "execution_count": 61,
   "id": "749bf044",
   "metadata": {},
   "outputs": [],
   "source": [
    "X_ada = bitcoin_df[[\"open\", \"close\", \"high\", \"low\"]]\n",
    "y_ada = bitcoin_df[[\"close_nextday\"]]\n",
    "X_train_ada, X_test_ada, y_train_ada, y_test_ada = train_test_split(X_ada, y_ada, test_size=0.33, random_state=42)"
   ]
  },
  {
   "cell_type": "code",
   "execution_count": 68,
   "id": "46f46166",
   "metadata": {},
   "outputs": [],
   "source": [
    "from sklearn import ensemble\n",
    "from sklearn import metrics\n",
    "from sklearn.ensemble import *\n",
    "ada = AdaBoostRegressor(n_estimators=500, learning_rate=0.1)\n",
    "bagging = BaggingRegressor(n_estimators=500)\n",
    "et = ExtraTreesRegressor(n_estimators=500)\n",
    "gb = GradientBoostingRegressor(n_estimators=500, learning_rate=0.1)"
   ]
  },
  {
   "cell_type": "code",
   "execution_count": 69,
   "id": "9cb2a621",
   "metadata": {},
   "outputs": [
    {
     "data": {
      "text/plain": [
       "GradientBoostingRegressor(n_estimators=500)"
      ]
     },
     "execution_count": 69,
     "metadata": {},
     "output_type": "execute_result"
    }
   ],
   "source": [
    "ada.fit(set_dic[\"X_train_BTC\"], set_dic[\"Y_train_BTC\"])\n",
    "bagging.fit(set_dic[\"X_train_BTC\"], set_dic[\"Y_train_BTC\"])\n",
    "et.fit(set_dic[\"X_train_BTC\"], set_dic[\"Y_train_BTC\"])\n",
    "gb.fit(set_dic[\"X_train_BTC\"], set_dic[\"Y_train_BTC\"])"
   ]
  },
  {
   "cell_type": "code",
   "execution_count": 33,
>>>>>>> e71c78cc7bf2bd5c390f9642792e53c9775e48b7
   "id": "d561e869",
   "metadata": {},
   "outputs": [
    {
     "name": "stdout",
     "output_type": "stream",
     "text": [
      "Profit: 6472048.407635627\n"
     ]
    }
   ],
   "source": [
    "starting_balances = {}\n",
    "crypto_usd_fx = {}\n",
    "starting_indicators = {}\n",
    "predictions = {}\n",
    "counter = 0\n",
    "\n",
    "for currency in currencies_of_interest:\n",
    "    starting_balances[currency] = starting_balances_list[counter]\n",
    "    crypto_usd_fx[currency] = crypto_usd_fx_list[counter]\n",
    "    counter += 1\n",
    "    \n",
    "    starting_indicators[currency] = curr_dic[currency].iloc[0,:][[\"date\", \"Prev High\", \"Prev Low\", \"open\", \"Prev Marketcap\"]].to_frame().T\n",
    "    predictions[currency] = model_dic[\"reg_\"+currency].predict(starting_indicators[currency])\n",
    "    \n",
    "revenue = sum([crypto_usd_fx[currency]*predictions[currency] for currency in currencies_of_interest])\n",
    "cost = sum([crypto_usd_fx[currency]*starting_balances[currency] for currency in currencies_of_interest])\n",
    "profit = revenue - cost\n",
    "print(\"Profit: \" + str(profit[0]))\n",
    "\n",
    "counter = 0"
   ]
<<<<<<< HEAD
=======
  },
  {
   "cell_type": "code",
   "execution_count": null,
   "id": "1adbdd6a",
   "metadata": {},
   "outputs": [],
   "source": []
>>>>>>> e71c78cc7bf2bd5c390f9642792e53c9775e48b7
  }
 ],
 "metadata": {
  "kernelspec": {
<<<<<<< HEAD
   "display_name": "Python 3 (ipykernel)",
=======
   "display_name": "Python 3",
>>>>>>> e71c78cc7bf2bd5c390f9642792e53c9775e48b7
   "language": "python",
   "name": "python3"
  },
  "language_info": {
   "codemirror_mode": {
    "name": "ipython",
    "version": 3
   },
   "file_extension": ".py",
   "mimetype": "text/x-python",
   "name": "python",
   "nbconvert_exporter": "python",
   "pygments_lexer": "ipython3",
<<<<<<< HEAD
   "version": "3.8.5"
=======
   "version": "3.8.8"
>>>>>>> e71c78cc7bf2bd5c390f9642792e53c9775e48b7
  }
 },
 "nbformat": 4,
 "nbformat_minor": 5
}
