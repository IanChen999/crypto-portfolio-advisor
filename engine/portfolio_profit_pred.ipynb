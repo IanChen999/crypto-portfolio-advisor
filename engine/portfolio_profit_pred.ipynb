{
 "cells": [
  {
   "cell_type": "code",
   "execution_count": 14,
   "id": "0d1fee80",
   "metadata": {},
   "outputs": [
    {
     "name": "stdout",
     "output_type": "stream",
     "text": [
      "Requirement already satisfied: seaborn in /usr/local/lib/python3.9/site-packages (0.11.2)\n",
      "Requirement already satisfied: matplotlib>=2.2 in /usr/local/lib/python3.9/site-packages (from seaborn) (3.4.3)\n",
      "Requirement already satisfied: numpy>=1.15 in /usr/local/lib/python3.9/site-packages (from seaborn) (1.19.5)\n",
      "Requirement already satisfied: pandas>=0.23 in /usr/local/lib/python3.9/site-packages (from seaborn) (1.2.1)\n",
      "Requirement already satisfied: scipy>=1.0 in /usr/local/lib/python3.9/site-packages (from seaborn) (1.7.1)\n",
      "Requirement already satisfied: pillow>=6.2.0 in /usr/local/lib/python3.9/site-packages (from matplotlib>=2.2->seaborn) (8.3.2)\n",
      "Requirement already satisfied: pyparsing>=2.2.1 in /usr/local/lib/python3.9/site-packages (from matplotlib>=2.2->seaborn) (2.4.7)\n",
      "Requirement already satisfied: cycler>=0.10 in /usr/local/lib/python3.9/site-packages (from matplotlib>=2.2->seaborn) (0.10.0)\n",
      "Requirement already satisfied: python-dateutil>=2.7 in /usr/local/lib/python3.9/site-packages (from matplotlib>=2.2->seaborn) (2.8.1)\n",
      "Requirement already satisfied: kiwisolver>=1.0.1 in /usr/local/lib/python3.9/site-packages (from matplotlib>=2.2->seaborn) (1.3.2)\n",
      "Requirement already satisfied: six in /usr/local/lib/python3.9/site-packages (from cycler>=0.10->matplotlib>=2.2->seaborn) (1.15.0)\n",
      "Requirement already satisfied: pytz>=2017.3 in /usr/local/lib/python3.9/site-packages (from pandas>=0.23->seaborn) (2020.5)\n",
      "\u001b[33mWARNING: You are using pip version 20.3.3; however, version 21.3.1 is available.\n",
      "You should consider upgrading via the '/usr/local/opt/python@3.9/bin/python3.9 -m pip install --upgrade pip' command.\u001b[0m\n"
     ]
    }
   ],
   "source": [
    "import pandas as pd\n",
    "import numpy as np\n",
    "from datetime import date\n",
    "from sklearn.model_selection import train_test_split\n",
    "from sklearn.linear_model import LinearRegression\n",
    "from sklearn.metrics import mean_squared_error\n",
    "import matplotlib.pyplot as plt\n",
    "!pip3 install seaborn\n",
    "import seaborn as sns"
   ]
  },
  {
   "cell_type": "code",
   "execution_count": 35,
   "id": "de3c8e48",
   "metadata": {},
   "outputs": [],
   "source": [
    "df = pd.read_csv(\"crypto-markets.csv\")"
   ]
  },
  {
   "cell_type": "code",
   "execution_count": 36,
   "id": "bcdfdd73",
   "metadata": {},
   "outputs": [
    {
     "name": "stdout",
     "output_type": "stream",
     "text": [
      "      slug symbol     name        date  ranknow    open    high     low  \\\n",
      "0  bitcoin    BTC  Bitcoin  2013-04-28        1  135.30  135.98  132.10   \n",
      "1  bitcoin    BTC  Bitcoin  2013-04-29        1  134.44  147.49  134.00   \n",
      "2  bitcoin    BTC  Bitcoin  2013-04-30        1  144.00  146.93  134.05   \n",
      "3  bitcoin    BTC  Bitcoin  2013-05-01        1  139.00  139.89  107.72   \n",
      "4  bitcoin    BTC  Bitcoin  2013-05-02        1  116.38  125.60   92.28   \n",
      "\n",
      "    close  volume        market  close_ratio  spread  \n",
      "0  134.21     0.0  1.488567e+09       0.5438    3.88  \n",
      "1  144.54     0.0  1.603769e+09       0.7813   13.49  \n",
      "2  139.00     0.0  1.542813e+09       0.3843   12.88  \n",
      "3  116.99     0.0  1.298955e+09       0.2882   32.17  \n",
      "4  105.21     0.0  1.168517e+09       0.3881   33.32  \n",
      "     slug symbol name        date  ranknow      open      high       low  \\\n",
      "0  ripple    XRP  XRP  2013-08-04        2  0.005874  0.005927  0.005874   \n",
      "1  ripple    XRP  XRP  2013-08-05        2  0.005875  0.005980  0.005613   \n",
      "2  ripple    XRP  XRP  2013-08-06        2  0.005637  0.005661  0.004629   \n",
      "3  ripple    XRP  XRP  2013-08-07        2  0.004669  0.004682  0.004333   \n",
      "4  ripple    XRP  XRP  2013-08-08        2  0.004397  0.004424  0.004175   \n",
      "\n",
      "      close  volume      market  close_ratio  spread  \n",
      "0  0.005882     0.0  45983577.0       0.1509     0.0  \n",
      "1  0.005613     0.0  43879157.0       0.0000     0.0  \n",
      "2  0.004680     0.0  36591008.0       0.0494     0.0  \n",
      "3  0.004417     0.0  34534121.0       0.2407     0.0  \n",
      "4  0.004254     0.0  33258632.0       0.3173     0.0  \n"
     ]
    }
   ],
   "source": [
    "currencies_of_interest = [\"BTC\", \"XRP\"]\n",
    "starting_balances_list = [5, 20]\n",
    "crypto_usd_fx_list = [65000, 1.1]\n",
    "\n",
    "curr_dic = {}\n",
    "for currency in currencies_of_interest:\n",
    "    curr_dic[currency] = df.loc[df[\"symbol\"]==currency,:].copy()\n",
    "    curr_dic[currency].reset_index(inplace=True, drop=True)\n",
    "    print(curr_dic[currency].head())"
   ]
  },
  {
   "cell_type": "code",
   "execution_count": 37,
   "id": "0ec3405c",
   "metadata": {},
   "outputs": [
    {
     "name": "stdout",
     "output_type": "stream",
     "text": [
      "  date    open  Prev High  Prev Low   Close  Prev Marketcap\n",
      "1    0  134.44     147.49    132.10  134.21    1.603769e+09\n",
      "2    1  144.00     146.93    134.00  144.54    1.542813e+09\n",
      "3    2  139.00     139.89    134.05  139.00    1.298955e+09\n",
      "4    3  116.38     125.60    107.72  116.99    1.168517e+09\n",
      "5    4  106.25     108.13     92.28  105.21    1.085995e+09\n",
      "0.360313\n",
      "  date      open  Prev High  Prev Low     Close  Prev Marketcap\n",
      "1    0  0.005875   0.005980  0.005874  0.005882      43879157.0\n",
      "2    1  0.005637   0.005661  0.005613  0.005613      36591008.0\n",
      "3    2  0.004669   0.004682  0.004629  0.004680      34534121.0\n",
      "4    3  0.004397   0.004424  0.004333  0.004417      33258632.0\n",
      "5    4  0.004257   0.004367  0.004175  0.004254      33547503.0\n"
     ]
    }
   ],
   "source": [
    "once = False\n",
    "for currency in currencies_of_interest:\n",
    "    # Restructure data so that date, open, past market cap(s), past high/low(s) are used to predict close price\n",
    "    no_rows = curr_dic[currency].shape[0]\n",
    "    for row in range(no_rows - 1):\n",
    "        curr_dic[currency].iloc[no_rows - 1 - row, 7] = curr_dic[currency].iloc[no_rows - 1 - row - 1, 7]\n",
    "        if once == False and currency==\"XRP\": \n",
    "            print(curr_dic[currency].iloc[no_rows - 1 - row, 7])\n",
    "            once=True\n",
    "        curr_dic[currency].iloc[no_rows - 1 - row, 8] = curr_dic[currency].iloc[no_rows - 1 - row - 1, 8]\n",
    "        curr_dic[currency].iloc[no_rows - 1 - row, 11] = curr_dic[currency].iloc[no_rows - 1 - row - 1, 11]\n",
    "        #curr_dic[currency].iloc[no_rows - 1 - row, 4] = curr_dic[currency].iloc[no_rows - 1 - row - 1, 4]\n",
    "    curr_dic[currency].drop(0, axis=0, inplace=True)\n",
    "    curr_dic[currency].drop(columns=[\"slug\", \"symbol\", \"name\", \"ranknow\", \"close_ratio\", \"spread\", \"volume\"], inplace=True)\n",
    "    curr_dic[currency].rename(columns={\"high\": \"Prev High\", \"low\": \"Prev Low\", \"market\": \"Prev Marketcap\", \"close\": \"Close\"}, inplace=True)\n",
    "\n",
    "    # Change date column into an integer for number of days since start date\n",
    "    date_null = date.fromisoformat(curr_dic[currency].iloc[0, 0])\n",
    "    for row in range(no_rows - 1):\n",
    "        date = date.fromisoformat(curr_dic[currency].iloc[row, 0])\n",
    "        curr_dic[currency].iloc[row, 0] = (date - date_null).days\n",
    "        \n",
    "    print(curr_dic[currency].head())"
   ]
  },
  {
   "cell_type": "code",
   "execution_count": 22,
   "id": "cbab476d",
   "metadata": {},
   "outputs": [],
   "source": [
    "# Split into training and test sets\n",
    "set_dic = {}\n",
    "for currency in currencies_of_interest:\n",
    "    set_dic[\"train_\"+currency], set_dic[\"val_\"+currency] = train_test_split(\n",
    "        curr_dic[currency][[\"date\", \"Prev High\", \"Prev Low\", \"open\", \"Prev Marketcap\", \"Close\"]], \n",
    "        test_size=0.33, random_state=1234)\n",
    "    set_dic[\"X_train_\"+currency] = set_dic[\"train_\"+currency][[\"date\", \"Prev High\", \"Prev Low\", \"open\", \"Prev Marketcap\"]]\n",
    "    set_dic[\"X_test_\"+currency] = set_dic[\"val_\"+currency][[\"date\", \"Prev High\", \"Prev Low\", \"open\", \"Prev Marketcap\"]]\n",
    "    set_dic[\"Y_train_\"+currency] = set_dic[\"train_\"+currency][\"Close\"]\n",
    "    set_dic[\"Y_test_\"+currency] = set_dic[\"val_\"+currency][\"Close\"]"
   ]
  },
  {
   "cell_type": "code",
   "execution_count": 23,
   "id": "1316fd07",
   "metadata": {},
   "outputs": [
    {
     "name": "stdout",
     "output_type": "stream",
     "text": [
      "RMSE BTC: 11.097708184905635\n",
      "RMSE XRP: 0.0019308521474138089\n"
     ]
    }
   ],
   "source": [
    "# Basic linear regression seems to have lower RMSE which is interesting and unexpected\n",
    "# Not using accuracy as a performance measure because I am predicting a continuous variable\n",
    "model_dic = {}\n",
    "for currency in currencies_of_interest:\n",
    "    model_dic[currency] = LinearRegression()\n",
    "    model_dic[\"reg_\"+currency] = model_dic[currency].fit(set_dic[\"X_train_\"+currency], set_dic[\"Y_train_\"+currency])\n",
    "    y_pred_btc = model_dic[\"reg_\"+currency].predict(set_dic[\"X_test_\"+currency])\n",
    "    print(\"RMSE \" + currency + \": \" + str(mean_squared_error(set_dic[\"Y_test_\"+currency], y_pred_btc) ** 0.5))"
   ]
  },
  {
   "cell_type": "code",
   "execution_count": 28,
   "id": "d561e869",
   "metadata": {},
   "outputs": [
    {
     "name": "stdout",
     "output_type": "stream",
     "text": [
      "Profit: 8414005.413680386\n"
     ]
    }
   ],
   "source": [
    "starting_balances = {}\n",
    "crypto_usd_fx = {}\n",
    "starting_indicators = {}\n",
    "predictions = {}\n",
    "counter = 0\n",
    "\n",
    "for currency in currencies_of_interest:\n",
    "    starting_balances[currency] = starting_balances_list[counter]\n",
    "    crypto_usd_fx[currency] = crypto_usd_fx_list[counter]\n",
    "    counter += 1\n",
    "    \n",
    "    starting_indicators[currency] = curr_dic[currency].iloc[0,:][[\"date\", \"Prev High\", \"Prev Low\", \"open\", \"Prev Marketcap\"]].to_frame().T\n",
    "    predictions[currency] = model_dic[\"reg_\"+currency].predict(starting_indicators[currency])\n",
    "    \n",
    "revenue = sum([crypto_usd_fx[currency]*predictions[currency] for currency in currencies_of_interest])\n",
    "cost = sum([crypto_usd_fx[currency]*starting_balances[currency] for currency in currencies_of_interest])\n",
    "profit = revenue - cost\n",
    "print(\"Profit: \" + str(profit[0]))\n",
    "\n",
    "counter = 0 "
   ]
  }
 ],
 "metadata": {
  "kernelspec": {
   "display_name": "Python 3 (ipykernel)",
   "language": "python",
   "name": "python3"
  },
  "language_info": {
   "codemirror_mode": {
    "name": "ipython",
    "version": 3
   },
   "file_extension": ".py",
   "mimetype": "text/x-python",
   "name": "python",
   "nbconvert_exporter": "python",
   "pygments_lexer": "ipython3",
   "version": "3.8.5"
  }
 },
 "nbformat": 4,
 "nbformat_minor": 5
}
