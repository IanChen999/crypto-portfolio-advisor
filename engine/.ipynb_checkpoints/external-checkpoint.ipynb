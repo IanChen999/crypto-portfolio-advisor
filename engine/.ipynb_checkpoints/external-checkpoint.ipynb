{
 "cells": [
  {
   "cell_type": "code",
   "execution_count": 7,
   "id": "4b74c97d",
   "metadata": {},
   "outputs": [
    {
     "name": "stdout",
     "output_type": "stream",
     "text": [
      "Requirement already satisfied: seaborn in /usr/local/lib/python3.9/site-packages (0.11.2)\n",
      "Requirement already satisfied: matplotlib>=2.2 in /usr/local/lib/python3.9/site-packages (from seaborn) (3.4.3)\n",
      "Requirement already satisfied: pandas>=0.23 in /usr/local/lib/python3.9/site-packages (from seaborn) (1.2.1)\n",
      "Requirement already satisfied: scipy>=1.0 in /usr/local/lib/python3.9/site-packages (from seaborn) (1.7.1)\n",
      "Requirement already satisfied: numpy>=1.15 in /usr/local/lib/python3.9/site-packages (from seaborn) (1.19.5)\n",
      "Requirement already satisfied: pillow>=6.2.0 in /usr/local/lib/python3.9/site-packages (from matplotlib>=2.2->seaborn) (8.3.2)\n",
      "Requirement already satisfied: pyparsing>=2.2.1 in /usr/local/lib/python3.9/site-packages (from matplotlib>=2.2->seaborn) (2.4.7)\n",
      "Requirement already satisfied: cycler>=0.10 in /usr/local/lib/python3.9/site-packages (from matplotlib>=2.2->seaborn) (0.10.0)\n",
      "Requirement already satisfied: kiwisolver>=1.0.1 in /usr/local/lib/python3.9/site-packages (from matplotlib>=2.2->seaborn) (1.3.2)\n",
      "Requirement already satisfied: python-dateutil>=2.7 in /usr/local/lib/python3.9/site-packages (from matplotlib>=2.2->seaborn) (2.8.1)\n",
      "Requirement already satisfied: six in /usr/local/lib/python3.9/site-packages (from cycler>=0.10->matplotlib>=2.2->seaborn) (1.15.0)\n",
      "Requirement already satisfied: pytz>=2017.3 in /usr/local/lib/python3.9/site-packages (from pandas>=0.23->seaborn) (2020.5)\n",
      "\u001b[33mWARNING: You are using pip version 20.3.3; however, version 21.3.1 is available.\n",
      "You should consider upgrading via the '/usr/local/opt/python@3.9/bin/python3.9 -m pip install --upgrade pip' command.\u001b[0m\n",
      "zsh:1: command not found: pip\n"
     ]
    }
   ],
   "source": [
    "import pandas as pd\n",
    "import numpy as np\n",
    "from datetime import date\n",
    "from sklearn.model_selection import train_test_split\n",
    "from sklearn.linear_model import LinearRegression\n",
    "from sklearn.metrics import mean_squared_error\n",
    "import matplotlib.pyplot as plt\n",
    "!pip3 install seaborn\n",
    "import seaborn as sns\n",
    "import random\n",
    "!pip install anvil-uplink\n",
    "import anvil.server"
   ]
  },
  {
   "cell_type": "code",
   "execution_count": 8,
   "id": "38b80226",
   "metadata": {},
   "outputs": [
    {
     "name": "stdout",
     "output_type": "stream",
     "text": [
      "Connecting to wss://anvil.works/uplink\n",
      "Anvil websocket open\n",
      "Fatal error from Anvil server: Incorrect uplink key\n",
      "Anvil websocket closed (code 1000, reason=b'')\n"
     ]
    }
   ],
   "source": [
    "key = \"\"\n",
    "anvil.server.connect(key)"
   ]
  },
  {
   "cell_type": "markdown",
   "id": "f520bff8",
   "metadata": {},
   "source": [
    "## Portfolio Profit Prediction"
   ]
  },
  {
   "cell_type": "code",
   "execution_count": 2,
   "id": "d983db53",
   "metadata": {},
   "outputs": [],
   "source": [
    "def profit_predictor(currencies_of_interest, starting_balances_list, crypto_usd_fx_list):\n",
    "    \n",
    "    from datetime import date\n",
    "    \n",
    "    df = pd.read_csv(\"crypto-markets.csv\")\n",
    "    curr_dic = {}\n",
    "    for currency in currencies_of_interest:\n",
    "        curr_dic[currency] = df.loc[df[\"name\"].str.lower()==currency,:].copy()\n",
    "        curr_dic[currency].reset_index(inplace=True, drop=True)\n",
    "\n",
    "    for currency in currencies_of_interest:\n",
    "        # Restructure data so that date, open, past market cap(s), past high/low(s) are used to predict close price\n",
    "        no_rows = curr_dic[currency].shape[0]\n",
    "        for row in range(no_rows - 1):\n",
    "            curr_dic[currency].iloc[no_rows - 1 - row, 6] = curr_dic[currency].iloc[no_rows - 1 - row - 1, 6]\n",
    "            curr_dic[currency].iloc[no_rows - 1 - row, 7] = curr_dic[currency].iloc[no_rows - 1 - row - 1, 7]\n",
    "            curr_dic[currency].iloc[no_rows - 1 - row, 10] = curr_dic[currency].iloc[no_rows - 1 - row - 1, 10]\n",
    "        curr_dic[currency].drop(0, axis=0, inplace=True)\n",
    "        curr_dic[currency].drop(columns=[\"slug\", \"symbol\", \"name\", \"ranknow\", \"close_ratio\", \"spread\", \"volume\"], inplace=True)\n",
    "        curr_dic[currency].rename(columns={\"high\": \"Prev High\", \"low\": \"Prev Low\", \"market\": \"Prev Marketcap\", \"close\": \"Close\"}, inplace=True)\n",
    "\n",
    "        # Change date column into an integer for number of days since start date\n",
    "        date_null = date.fromisoformat(curr_dic[currency].iloc[0, 0])\n",
    "        for row in range(no_rows - 1):\n",
    "            date = date.fromisoformat(curr_dic[currency].iloc[row, 0])\n",
    "            curr_dic[currency].iloc[row, 0] = (date - date_null).days\n",
    "        \n",
    "    # Split into training and test sets\n",
    "    set_dic = {}\n",
    "    for currency in currencies_of_interest:\n",
    "        set_dic[\"train_\"+currency], set_dic[\"val_\"+currency] = train_test_split(\n",
    "            curr_dic[currency][[\"date\", \"Prev High\", \"Prev Low\", \"open\", \"Prev Marketcap\", \"Close\"]], \n",
    "            test_size=0.33, random_state=1234)\n",
    "        set_dic[\"X_train_\"+currency] = set_dic[\"train_\"+currency][[\"date\", \"Prev High\", \"Prev Low\", \"open\", \"Prev Marketcap\"]]\n",
    "        set_dic[\"X_test_\"+currency] = set_dic[\"val_\"+currency][[\"date\", \"Prev High\", \"Prev Low\", \"open\", \"Prev Marketcap\"]]\n",
    "        set_dic[\"Y_train_\"+currency] = set_dic[\"train_\"+currency][\"Close\"]\n",
    "        set_dic[\"Y_test_\"+currency] = set_dic[\"val_\"+currency][\"Close\"]\n",
    "\n",
    "    # Basic linear regression seems to have lower RMSE which is interesting and unexpected\n",
    "    # Not using accuracy as a performance measure because I am predicting a continuous variable\n",
    "    model_dic = {}\n",
    "    for currency in currencies_of_interest:\n",
    "        model_dic[currency] = LinearRegression()\n",
    "        model_dic[\"reg_\"+currency] = model_dic[currency].fit(set_dic[\"X_train_\"+currency], set_dic[\"Y_train_\"+currency])\n",
    "        y_pred_btc = model_dic[\"reg_\"+currency].predict(set_dic[\"X_test_\"+currency])#print(\"RMSE \" + currency + \": \" + str(mean_squared_error(set_dic[\"Y_test_\"+currency], y_pred_btc) ** 0.5))\n",
    "\n",
    "    starting_balances = {}\n",
    "    crypto_usd_fx = {}\n",
    "    starting_indicators = {}\n",
    "    predictions = {}\n",
    "    counter = 0\n",
    "\n",
    "    for currency in currencies_of_interest:\n",
    "        starting_balances[currency] = starting_balances_list[counter]\n",
    "        crypto_usd_fx[currency] = crypto_usd_fx_list[counter]\n",
    "        counter += 1\n",
    "\n",
    "        starting_indicators[currency] = curr_dic[currency].iloc[0,:][[\"date\", \"Prev High\", \"Prev Low\", \"open\", \"Prev Marketcap\"]].to_frame().T\n",
    "        predictions[currency] = model_dic[\"reg_\"+currency].predict(starting_indicators[currency])\n",
    "\n",
    "    revenue = sum([crypto_usd_fx[currency]*predictions[currency] for currency in currencies_of_interest])\n",
    "    cost = sum([crypto_usd_fx[currency]*starting_balances[currency] for currency in currencies_of_interest])\n",
    "    profit = revenue - cost\n",
    "\n",
    "    counter = 0\n",
    "    return profit"
   ]
  },
  {
   "cell_type": "markdown",
   "id": "ca146ff0",
   "metadata": {},
   "source": [
    "## Portfolio Risk Calculator"
   ]
  },
  {
   "cell_type": "code",
   "execution_count": 3,
   "id": "2a247c03",
   "metadata": {},
   "outputs": [],
   "source": [
    "all_cryptos_df = pd.read_csv(\"crypto-markets.csv\") #Read in project data\n",
    "all_cryptos_df.head()\n",
    "\n",
    "cleaned_all_cryptos = all_cryptos_df[all_cryptos_df['date'].str.startswith(\"2018\")] #Only use historical price data from 2018\n",
    "cleaned_all_cryptos = cleaned_all_cryptos[all_cryptos_df['date'] != \"2018-11-30\"]\n",
    "cleaned_all_cryptos['daily_returns'] = (cleaned_all_cryptos['close'] - cleaned_all_cryptos['open']) / (cleaned_all_cryptos['open']) * 100 #create daily percentage returns column\n",
    "cleaned_all_cryptos.head()\n",
    "\n",
    "names = cleaned_all_cryptos['name'].unique() #Use unique names to calculate each crypto's beta\n",
    "names = [x.lower() for x in names]"
   ]
  },
  {
   "cell_type": "code",
   "execution_count": 4,
   "id": "f97ec98b",
   "metadata": {},
   "outputs": [],
   "source": [
    "def calculate_risk(names, percentages):\n",
    "    score = 0;\n",
    "    for i in range(len(names)):\n",
    "        x = cleaned_all_cryptos[cleaned_all_cryptos['symbol'].str.lower() == names[i].lower()]['daily_returns']\n",
    "        if (x.empty):\n",
    "            print(names[i] + ' doesnt exist!')\n",
    "            return -1\n",
    "        score += percentages[i] * np.var(x)\n",
    "    for i in range(len(names)):\n",
    "        for j in range(len(names)):\n",
    "            first = cleaned_all_cryptos[cleaned_all_cryptos['symbol'].str.lower() == names[i]]\n",
    "            second = cleaned_all_cryptos[cleaned_all_cryptos['symbol'].str.lower() == names[j]]\n",
    "            if (i != j):\n",
    "                if (first.shape[0] < second.shape[0]):\n",
    "                    arr = first['date']\n",
    "                    second = second[second['date'].isin(arr)]\n",
    "                if (first.shape[0] > second.shape[0]):\n",
    "                    arr = second['date']\n",
    "                    first = first[first['date'].isin(arr)]\n",
    "                score += percentages[i] * percentages[j] * np.cov(first['daily_returns'], second['daily_returns'])[0][1]\n",
    "    return np.sqrt(score)"
   ]
  },
  {
   "cell_type": "markdown",
   "id": "b492caf1",
   "metadata": {},
   "source": [
    "## Possible Portfolio Generation"
   ]
  },
  {
   "cell_type": "code",
   "execution_count": 5,
   "id": "c1439be1",
   "metadata": {},
   "outputs": [
    {
     "name": "stdout",
     "output_type": "stream",
     "text": [
      "{1.2: [('zero', 'sugar exchange', 52, 48), ('power ledger', 'cardano', 3, 97), ('investfeed', 'adshares', 4, 96), ('xgox', 'starta', 59, 41), ('quantstamp', 'streamr datacoin', 18, 82), ('storm', 'animecoin', 28, 72), ('waves community token', 'hollywoodcoin', 48, 52), ('sprouts', 'suretly', 46, 54), ('blockv', 'blackmoon', 44, 56), ('monetha', 'dash', 40, 60)], 1.0: [('ambrosus', 'kolion', 6, 94), ('bitbay', 'bitqy', 79, 21), ('breakout', 'starta', 17, 83)], 1.1: [('goldcoin', 'crea', 92, 8)], 1.3: [('the champcoin', 'foldingcoin', 3, 97), ('circuits of value', 'stealth', 91, 9), ('sociall', 'golos', 30, 70), ('gifto', 'quantstamp', 67, 33)], 1.5: [('dimecoin', 'ormeus coin', 82, 18)], 1.4: [('sonm', 'zero', 72, 28)]}\n"
     ]
    }
   ],
   "source": [
    "currencies = df_betas[\"Name\"].unique().tolist()\n",
    "portfolio_size = 2\n",
    "risk_portfolios = {}\n",
    "for trial in range(20):\n",
    "    curr_temp = random.sample(currencies, 2)\n",
    "    weight = random.choice([i for i in range(1, 101)])\n",
    "    risk_lvl = calculate_risk([curr_temp[0], curr_temp[1]], [weight, 100-weight])\n",
    "    if round(risk_lvl, 1) not in risk_portfolios:\n",
    "        risk_portfolios[round(risk_lvl, 1)] = [(curr_temp[0], curr_temp[1], weight, 100-weight)]\n",
    "    else: \n",
    "        risk_portfolios[round(risk_lvl, 1)].append((curr_temp[0], curr_temp[1], weight, 100-weight))\n",
    "print(risk_portfolios)"
   ]
  },
  {
   "cell_type": "markdown",
   "id": "6e80d5b7",
   "metadata": {},
   "source": [
    "## Portfolio Selection Per Risk Bucket"
   ]
  },
  {
   "cell_type": "code",
   "execution_count": 6,
   "id": "9e1e9608",
   "metadata": {},
   "outputs": [
    {
     "name": "stdout",
     "output_type": "stream",
     "text": [
      "{1.2: ('waves community token', 'hollywoodcoin', 48, 52), 1.0: ('breakout', 'starta', 17, 83), 1.1: ('goldcoin', 'crea', 92, 8), 1.3: ('gifto', 'quantstamp', 67, 33), 1.5: ('dimecoin', 'ormeus coin', 82, 18), 1.4: ('sonm', 'zero', 72, 28)}\n"
     ]
    }
   ],
   "source": [
    "final_portfolios = {}\n",
    "for risk in risk_portfolios.keys():\n",
    "    portfolio_options = risk_portfolios[risk]\n",
    "    crypto_usd_fx_list = [1,1]\n",
    "    profit_est = -1000\n",
    "    for portfolio in portfolio_options:\n",
    "        initial_portfolio_worth = 100\n",
    "        profit_pred = profit_predictor([portfolio[0], portfolio[1]], [portfolio[2]*.01*initial_portfolio_worth, portfolio[3]*.01*initial_portfolio_worth], crypto_usd_fx_list)\n",
    "        if profit_pred > profit_est:\n",
    "            final_portfolios[risk] = portfolio\n",
    "            profit_est = profit_pred\n",
    "    profit_est = -1000\n",
    "print(final_portfolios)"
   ]
  },
  {
   "cell_type": "code",
   "execution_count": null,
   "id": "f4d02f30",
   "metadata": {},
   "outputs": [],
   "source": [
    "@anvil.server.callable\n",
    "def risk_portfolio(risk):\n",
    "    if risk in final_portfolios.keys(): return final_portfolio[risk]\n",
    "    else: return ('NA', 'NA', 0, 0)\n",
    "    \n",
    "anvil.server.wait_forever()"
   ]
  }
 ],
 "metadata": {
  "kernelspec": {
   "display_name": "Python 3",
   "language": "python",
   "name": "python3"
  },
  "language_info": {
   "codemirror_mode": {
    "name": "ipython",
    "version": 3
   },
   "file_extension": ".py",
   "mimetype": "text/x-python",
   "name": "python",
   "nbconvert_exporter": "python",
   "pygments_lexer": "ipython3",
   "version": "3.7.10"
  }
 },
 "nbformat": 4,
 "nbformat_minor": 5
}
