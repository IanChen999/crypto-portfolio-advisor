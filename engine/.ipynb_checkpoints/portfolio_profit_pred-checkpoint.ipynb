{
 "cells": [
  {
   "cell_type": "code",
<<<<<<< HEAD
   "execution_count": 16,
=======
   "execution_count": 2,
>>>>>>> e71c78cc7bf2bd5c390f9642792e53c9775e48b7
   "id": "0d1fee80",
   "metadata": {},
   "outputs": [
    {
     "name": "stdout",
     "output_type": "stream",
     "text": [
      "Requirement already satisfied: seaborn in /usr/local/lib/python3.9/site-packages (0.11.2)\n",
<<<<<<< HEAD
      "Requirement already satisfied: scipy>=1.0 in /usr/local/lib/python3.9/site-packages (from seaborn) (1.7.1)\n",
      "Requirement already satisfied: pandas>=0.23 in /usr/local/lib/python3.9/site-packages (from seaborn) (1.2.1)\n",
      "Requirement already satisfied: numpy>=1.15 in /usr/local/lib/python3.9/site-packages (from seaborn) (1.19.5)\n",
      "Requirement already satisfied: matplotlib>=2.2 in /usr/local/lib/python3.9/site-packages (from seaborn) (3.4.3)\n",
      "Requirement already satisfied: cycler>=0.10 in /usr/local/lib/python3.9/site-packages (from matplotlib>=2.2->seaborn) (0.10.0)\n",
      "Requirement already satisfied: pyparsing>=2.2.1 in /usr/local/lib/python3.9/site-packages (from matplotlib>=2.2->seaborn) (2.4.7)\n",
      "Requirement already satisfied: python-dateutil>=2.7 in /usr/local/lib/python3.9/site-packages (from matplotlib>=2.2->seaborn) (2.8.1)\n",
      "Requirement already satisfied: pillow>=6.2.0 in /usr/local/lib/python3.9/site-packages (from matplotlib>=2.2->seaborn) (8.3.2)\n",
      "Requirement already satisfied: kiwisolver>=1.0.1 in /usr/local/lib/python3.9/site-packages (from matplotlib>=2.2->seaborn) (1.3.2)\n",
      "Requirement already satisfied: six in /usr/local/lib/python3.9/site-packages (from cycler>=0.10->matplotlib>=2.2->seaborn) (1.15.0)\n",
      "Requirement already satisfied: pytz>=2017.3 in /usr/local/lib/python3.9/site-packages (from pandas>=0.23->seaborn) (2020.5)\n",
      "\u001b[33mWARNING: You are using pip version 20.3.3; however, version 21.3.1 is available.\n",
=======
      "Requirement already satisfied: numpy>=1.15 in /usr/local/lib/python3.9/site-packages (from seaborn) (1.19.5)\n",
      "Requirement already satisfied: pandas>=0.23 in /usr/local/lib/python3.9/site-packages (from seaborn) (1.2.1)\n",
      "Requirement already satisfied: scipy>=1.0 in /usr/local/lib/python3.9/site-packages (from seaborn) (1.7.1)\n",
      "Requirement already satisfied: matplotlib>=2.2 in /usr/local/lib/python3.9/site-packages (from seaborn) (3.4.3)\n",
      "Requirement already satisfied: python-dateutil>=2.7 in /usr/local/lib/python3.9/site-packages (from matplotlib>=2.2->seaborn) (2.8.1)\n",
      "Requirement already satisfied: kiwisolver>=1.0.1 in /usr/local/lib/python3.9/site-packages (from matplotlib>=2.2->seaborn) (1.3.2)\n",
      "Requirement already satisfied: pillow>=6.2.0 in /usr/local/lib/python3.9/site-packages (from matplotlib>=2.2->seaborn) (8.3.2)\n",
      "Requirement already satisfied: pyparsing>=2.2.1 in /usr/local/lib/python3.9/site-packages (from matplotlib>=2.2->seaborn) (2.4.7)\n",
      "Requirement already satisfied: cycler>=0.10 in /usr/local/lib/python3.9/site-packages (from matplotlib>=2.2->seaborn) (0.10.0)\n",
      "Requirement already satisfied: six in /usr/local/lib/python3.9/site-packages (from cycler>=0.10->matplotlib>=2.2->seaborn) (1.15.0)\n",
      "Requirement already satisfied: pytz>=2017.3 in /usr/local/lib/python3.9/site-packages (from pandas>=0.23->seaborn) (2020.5)\n",
      "\u001b[33mWARNING: You are using pip version 20.3.3; however, version 21.3 is available.\n",
>>>>>>> e71c78cc7bf2bd5c390f9642792e53c9775e48b7
      "You should consider upgrading via the '/usr/local/opt/python@3.9/bin/python3.9 -m pip install --upgrade pip' command.\u001b[0m\n"
     ]
    }
   ],
   "source": [
    "import pandas as pd\n",
    "import numpy as np\n",
    "from datetime import date\n",
    "from sklearn.model_selection import train_test_split\n",
    "from sklearn.linear_model import LinearRegression\n",
    "from sklearn.metrics import mean_squared_error\n",
    "import matplotlib.pyplot as plt\n",
    "!pip3 install seaborn\n",
    "import seaborn as sns"
   ]
  },
  {
   "cell_type": "code",
<<<<<<< HEAD
   "execution_count": 17,
=======
   "execution_count": 3,
>>>>>>> e71c78cc7bf2bd5c390f9642792e53c9775e48b7
   "id": "de3c8e48",
   "metadata": {},
   "outputs": [],
   "source": [
    "df = pd.read_csv(\"crypto-markets.csv\")"
   ]
  },
  {
   "cell_type": "code",
<<<<<<< HEAD
   "execution_count": 18,
   "id": "bcdfdd73",
   "metadata": {},
   "outputs": [
    {
     "name": "stdout",
     "output_type": "stream",
     "text": [
      "      slug symbol     name        date  ranknow    open    high     low  \\\n",
      "0  bitcoin    BTC  Bitcoin  2013-04-28        1  135.30  135.98  132.10   \n",
      "1  bitcoin    BTC  Bitcoin  2013-04-29        1  134.44  147.49  134.00   \n",
      "2  bitcoin    BTC  Bitcoin  2013-04-30        1  144.00  146.93  134.05   \n",
      "3  bitcoin    BTC  Bitcoin  2013-05-01        1  139.00  139.89  107.72   \n",
      "4  bitcoin    BTC  Bitcoin  2013-05-02        1  116.38  125.60   92.28   \n",
      "\n",
      "    close  volume        market  close_ratio  spread  \n",
      "0  134.21     0.0  1.488567e+09       0.5438    3.88  \n",
      "1  144.54     0.0  1.603769e+09       0.7813   13.49  \n",
      "2  139.00     0.0  1.542813e+09       0.3843   12.88  \n",
      "3  116.99     0.0  1.298955e+09       0.2882   32.17  \n",
      "4  105.21     0.0  1.168517e+09       0.3881   33.32  \n",
      "     slug symbol name        date  ranknow      open      high       low  \\\n",
      "0  ripple    XRP  XRP  2013-08-04        2  0.005874  0.005927  0.005874   \n",
      "1  ripple    XRP  XRP  2013-08-05        2  0.005875  0.005980  0.005613   \n",
      "2  ripple    XRP  XRP  2013-08-06        2  0.005637  0.005661  0.004629   \n",
      "3  ripple    XRP  XRP  2013-08-07        2  0.004669  0.004682  0.004333   \n",
      "4  ripple    XRP  XRP  2013-08-08        2  0.004397  0.004424  0.004175   \n",
      "\n",
      "      close  volume      market  close_ratio  spread  \n",
      "0  0.005882     0.0  45983577.0       0.1509     0.0  \n",
      "1  0.005613     0.0  43879157.0       0.0000     0.0  \n",
      "2  0.004680     0.0  36591008.0       0.0494     0.0  \n",
      "3  0.004417     0.0  34534121.0       0.2407     0.0  \n",
      "4  0.004254     0.0  33258632.0       0.3173     0.0  \n"
     ]
    }
   ],
   "source": [
    "currencies_of_interest = [\"BTC\", \"XRP\"]\n",
    "starting_balances_list = [5, 20]\n",
    "crypto_usd_fx_list = [65000, 1.1]\n",
    "\n",
    "curr_dic = {}\n",
    "for currency in currencies_of_interest:\n",
    "    curr_dic[currency] = df.loc[df[\"symbol\"]==currency,:].copy()\n",
    "    curr_dic[currency].reset_index(inplace=True, drop=True)\n",
    "    print(curr_dic[currency].head())"
=======
   "execution_count": 66,
   "id": "bcdfdd73",
   "metadata": {},
   "outputs": [],
   "source": [
    "df_btc = df.loc[df[\"symbol\"]=='BTC',:].copy()\n",
    "df_xrp = df.loc[df[\"symbol\"]=='XRP',:].copy()"
   ]
  },
  {
   "cell_type": "code",
   "execution_count": 67,
   "id": "0ec3405c",
   "metadata": {},
   "outputs": [
    {
     "data": {
      "text/html": [
       "<div>\n",
       "<style scoped>\n",
       "    .dataframe tbody tr th:only-of-type {\n",
       "        vertical-align: middle;\n",
       "    }\n",
       "\n",
       "    .dataframe tbody tr th {\n",
       "        vertical-align: top;\n",
       "    }\n",
       "\n",
       "    .dataframe thead th {\n",
       "        text-align: right;\n",
       "    }\n",
       "</style>\n",
       "<table border=\"1\" class=\"dataframe\">\n",
       "  <thead>\n",
       "    <tr style=\"text-align: right;\">\n",
       "      <th></th>\n",
       "      <th>date</th>\n",
       "      <th>open</th>\n",
       "      <th>Prev High</th>\n",
       "      <th>Prev Low</th>\n",
       "      <th>Close</th>\n",
       "      <th>Prev Marketcap</th>\n",
       "    </tr>\n",
       "  </thead>\n",
       "  <tbody>\n",
       "    <tr>\n",
       "      <th>1</th>\n",
       "      <td>0</td>\n",
       "      <td>134.44</td>\n",
       "      <td>147.49</td>\n",
       "      <td>132.10</td>\n",
       "      <td>134.21</td>\n",
       "      <td>1.603769e+09</td>\n",
       "    </tr>\n",
       "    <tr>\n",
       "      <th>2</th>\n",
       "      <td>1</td>\n",
       "      <td>144.00</td>\n",
       "      <td>146.93</td>\n",
       "      <td>134.00</td>\n",
       "      <td>144.54</td>\n",
       "      <td>1.542813e+09</td>\n",
       "    </tr>\n",
       "    <tr>\n",
       "      <th>3</th>\n",
       "      <td>2</td>\n",
       "      <td>139.00</td>\n",
       "      <td>139.89</td>\n",
       "      <td>134.05</td>\n",
       "      <td>139.00</td>\n",
       "      <td>1.298955e+09</td>\n",
       "    </tr>\n",
       "    <tr>\n",
       "      <th>4</th>\n",
       "      <td>3</td>\n",
       "      <td>116.38</td>\n",
       "      <td>125.60</td>\n",
       "      <td>107.72</td>\n",
       "      <td>116.99</td>\n",
       "      <td>1.168517e+09</td>\n",
       "    </tr>\n",
       "    <tr>\n",
       "      <th>5</th>\n",
       "      <td>4</td>\n",
       "      <td>106.25</td>\n",
       "      <td>108.13</td>\n",
       "      <td>92.28</td>\n",
       "      <td>105.21</td>\n",
       "      <td>1.085995e+09</td>\n",
       "    </tr>\n",
       "  </tbody>\n",
       "</table>\n",
       "</div>"
      ],
      "text/plain": [
       "  date    open  Prev High  Prev Low   Close  Prev Marketcap\n",
       "1    0  134.44     147.49    132.10  134.21    1.603769e+09\n",
       "2    1  144.00     146.93    134.00  144.54    1.542813e+09\n",
       "3    2  139.00     139.89    134.05  139.00    1.298955e+09\n",
       "4    3  116.38     125.60    107.72  116.99    1.168517e+09\n",
       "5    4  106.25     108.13     92.28  105.21    1.085995e+09"
      ]
     },
     "execution_count": 67,
     "metadata": {},
     "output_type": "execute_result"
    }
   ],
   "source": [
    "# Restructure data so that date, open, past market cap(s), past high/low(s) are used to predict close price\n",
    "no_rows = df_btc.shape[0]\n",
    "for row in range(no_rows - 1):\n",
    "    df_btc.iloc[no_rows - 1 - row, 7] = df_btc.iloc[no_rows - 1 - row - 1, 7]\n",
    "    df_btc.iloc[no_rows - 1 - row, 8] = df_btc.iloc[no_rows - 1 - row - 1, 8]\n",
    "    df_btc.iloc[no_rows - 1 - row, 11] = df_btc.iloc[no_rows - 1 - row - 1, 11]\n",
    "    df_btc.iloc[no_rows - 1 - row, 4] = df_btc.iloc[no_rows - 1 - row - 1, 4]\n",
    "df_btc = df_btc.drop(0, axis=0)\n",
    "df_btc = df_btc.drop(columns=[\"slug\", \"symbol\", \"name\", \"ranknow\", \"close_ratio\", \"spread\", \"volume\"])\n",
    "df_btc = df_btc.rename(columns={\"high\": \"Prev High\", \"low\": \"Prev Low\", \"market\": \"Prev Marketcap\", \"close\": \"Close\"})\n",
    "\n",
    "# Change date column into an integer for number of days since start date\n",
    "date_null = date.fromisoformat(df_btc.iloc[0, 0])\n",
    "for row in range(no_rows - 1):\n",
    "    date = date.fromisoformat(df_btc.iloc[row, 0])\n",
    "    df_btc.iloc[row, 0] = (date - date_null).days\n",
    "\n",
    "df_btc.head()"
>>>>>>> e71c78cc7bf2bd5c390f9642792e53c9775e48b7
   ]
  },
  {
   "cell_type": "code",
<<<<<<< HEAD
   "execution_count": 19,
   "id": "0ec3405c",
   "metadata": {},
   "outputs": [
    {
     "name": "stdout",
     "output_type": "stream",
     "text": [
      "  date    open  Prev High  Prev Low   Close  Prev Marketcap\n",
      "1    0  134.44     135.98    132.10  144.54    1.488567e+09\n",
      "2    1  144.00     147.49    134.00  139.00    1.603769e+09\n",
      "3    2  139.00     146.93    134.05  116.99    1.542813e+09\n",
      "4    3  116.38     139.89    107.72  105.21    1.298955e+09\n",
      "5    4  106.25     125.60     92.28   97.75    1.168517e+09\n",
      "  date      open  Prev High  Prev Low     Close  Prev Marketcap\n",
      "1    0  0.005875   0.005927  0.005874  0.005613      45983577.0\n",
      "2    1  0.005637   0.005980  0.005613  0.004680      43879157.0\n",
      "3    2  0.004669   0.005661  0.004629  0.004417      36591008.0\n",
      "4    3  0.004397   0.004682  0.004333  0.004254      34534121.0\n",
      "5    4  0.004257   0.004424  0.004175  0.004291      33258632.0\n"
     ]
    }
   ],
   "source": [
    "for currency in currencies_of_interest:\n",
    "    # Restructure data so that date, open, past market cap(s), past high/low(s) are used to predict close price\n",
    "    no_rows = curr_dic[currency].shape[0]\n",
    "    for row in range(no_rows - 1):\n",
    "        curr_dic[currency].iloc[no_rows - 1 - row, 6] = curr_dic[currency].iloc[no_rows - 1 - row - 1, 6]\n",
    "        curr_dic[currency].iloc[no_rows - 1 - row, 7] = curr_dic[currency].iloc[no_rows - 1 - row - 1, 7]\n",
    "        curr_dic[currency].iloc[no_rows - 1 - row, 10] = curr_dic[currency].iloc[no_rows - 1 - row - 1, 10]\n",
    "    curr_dic[currency].drop(0, axis=0, inplace=True)\n",
    "    curr_dic[currency].drop(columns=[\"slug\", \"symbol\", \"name\", \"ranknow\", \"close_ratio\", \"spread\", \"volume\"], inplace=True)\n",
    "    curr_dic[currency].rename(columns={\"high\": \"Prev High\", \"low\": \"Prev Low\", \"market\": \"Prev Marketcap\", \"close\": \"Close\"}, inplace=True)\n",
    "\n",
    "    # Change date column into an integer for number of days since start date\n",
    "    date_null = date.fromisoformat(curr_dic[currency].iloc[0, 0])\n",
    "    for row in range(no_rows - 1):\n",
    "        date = date.fromisoformat(curr_dic[currency].iloc[row, 0])\n",
    "        curr_dic[currency].iloc[row, 0] = (date - date_null).days\n",
    "        \n",
    "    print(curr_dic[currency].head())"
=======
   "execution_count": 68,
   "id": "798f8f17",
   "metadata": {},
   "outputs": [
    {
     "data": {
      "text/html": [
       "<div>\n",
       "<style scoped>\n",
       "    .dataframe tbody tr th:only-of-type {\n",
       "        vertical-align: middle;\n",
       "    }\n",
       "\n",
       "    .dataframe tbody tr th {\n",
       "        vertical-align: top;\n",
       "    }\n",
       "\n",
       "    .dataframe thead th {\n",
       "        text-align: right;\n",
       "    }\n",
       "</style>\n",
       "<table border=\"1\" class=\"dataframe\">\n",
       "  <thead>\n",
       "    <tr style=\"text-align: right;\">\n",
       "      <th></th>\n",
       "      <th>date</th>\n",
       "      <th>open</th>\n",
       "      <th>Prev High</th>\n",
       "      <th>Prev Low</th>\n",
       "      <th>Close</th>\n",
       "      <th>Prev Marketcap</th>\n",
       "    </tr>\n",
       "  </thead>\n",
       "  <tbody>\n",
       "    <tr>\n",
       "      <th>2043</th>\n",
       "      <td>0</td>\n",
       "      <td>0.005875</td>\n",
       "      <td>0.005980</td>\n",
       "      <td>0.005874</td>\n",
       "      <td>0.005882</td>\n",
       "      <td>43879157.0</td>\n",
       "    </tr>\n",
       "    <tr>\n",
       "      <th>2044</th>\n",
       "      <td>1</td>\n",
       "      <td>0.005637</td>\n",
       "      <td>0.005661</td>\n",
       "      <td>0.005613</td>\n",
       "      <td>0.005613</td>\n",
       "      <td>36591008.0</td>\n",
       "    </tr>\n",
       "    <tr>\n",
       "      <th>2045</th>\n",
       "      <td>2</td>\n",
       "      <td>0.004669</td>\n",
       "      <td>0.004682</td>\n",
       "      <td>0.004629</td>\n",
       "      <td>0.004680</td>\n",
       "      <td>34534121.0</td>\n",
       "    </tr>\n",
       "    <tr>\n",
       "      <th>2046</th>\n",
       "      <td>3</td>\n",
       "      <td>0.004397</td>\n",
       "      <td>0.004424</td>\n",
       "      <td>0.004333</td>\n",
       "      <td>0.004417</td>\n",
       "      <td>33258632.0</td>\n",
       "    </tr>\n",
       "    <tr>\n",
       "      <th>2047</th>\n",
       "      <td>4</td>\n",
       "      <td>0.004257</td>\n",
       "      <td>0.004367</td>\n",
       "      <td>0.004175</td>\n",
       "      <td>0.004254</td>\n",
       "      <td>33547503.0</td>\n",
       "    </tr>\n",
       "  </tbody>\n",
       "</table>\n",
       "</div>"
      ],
      "text/plain": [
       "     date      open  Prev High  Prev Low     Close  Prev Marketcap\n",
       "2043    0  0.005875   0.005980  0.005874  0.005882      43879157.0\n",
       "2044    1  0.005637   0.005661  0.005613  0.005613      36591008.0\n",
       "2045    2  0.004669   0.004682  0.004629  0.004680      34534121.0\n",
       "2046    3  0.004397   0.004424  0.004333  0.004417      33258632.0\n",
       "2047    4  0.004257   0.004367  0.004175  0.004254      33547503.0"
      ]
     },
     "execution_count": 68,
     "metadata": {},
     "output_type": "execute_result"
    }
   ],
   "source": [
    "# Restructure data so that date, open, past market cap(s), past high/low(s) are used to predict close price\n",
    "no_rows = df_xrp.shape[0]\n",
    "for row in range(no_rows - 1):\n",
    "    df_xrp.iloc[no_rows - 1 - row, 7] = df_xrp.iloc[no_rows - 1 - row - 1, 7]\n",
    "    df_xrp.iloc[no_rows - 1 - row, 8] = df_xrp.iloc[no_rows - 1 - row - 1, 8]\n",
    "    df_xrp.iloc[no_rows - 1 - row, 11] = df_xrp.iloc[no_rows - 1 - row - 1, 11]\n",
    "    df_xrp.iloc[no_rows - 1 - row, 4] = df_xrp.iloc[no_rows - 1 - row - 1, 4]\n",
    "df_xrp = df_xrp.drop(2042, axis=0)\n",
    "df_xrp = df_xrp.drop(columns=[\"slug\", \"symbol\", \"name\", \"ranknow\", \"close_ratio\", \"spread\", \"volume\"])\n",
    "df_xrp = df_xrp.rename(columns={\"high\": \"Prev High\", \"low\": \"Prev Low\", \"market\": \"Prev Marketcap\", \"close\": \"Close\"})\n",
    "\n",
    "# Change date column into an integer for number of days since start date\n",
    "date_null = date.fromisoformat(df_xrp.iloc[0, 0])\n",
    "for row in range(no_rows - 1):\n",
    "    date = date.fromisoformat(df_xrp.iloc[row, 0])\n",
    "    df_xrp.iloc[row, 0] = (date - date_null).days\n",
    "\n",
    "df_xrp.head()"
>>>>>>> e71c78cc7bf2bd5c390f9642792e53c9775e48b7
   ]
  },
  {
   "cell_type": "code",
<<<<<<< HEAD
   "execution_count": 20,
=======
   "execution_count": 70,
>>>>>>> e71c78cc7bf2bd5c390f9642792e53c9775e48b7
   "id": "cbab476d",
   "metadata": {},
   "outputs": [],
   "source": [
    "# Split into training and test sets\n",
<<<<<<< HEAD
    "set_dic = {}\n",
    "for currency in currencies_of_interest:\n",
    "    set_dic[\"train_\"+currency], set_dic[\"val_\"+currency] = train_test_split(\n",
    "        curr_dic[currency][[\"date\", \"Prev High\", \"Prev Low\", \"open\", \"Prev Marketcap\", \"Close\"]], \n",
    "        test_size=0.33, random_state=1234)\n",
    "    set_dic[\"X_train_\"+currency] = set_dic[\"train_\"+currency][[\"date\", \"Prev High\", \"Prev Low\", \"open\", \"Prev Marketcap\"]]\n",
    "    set_dic[\"X_test_\"+currency] = set_dic[\"val_\"+currency][[\"date\", \"Prev High\", \"Prev Low\", \"open\", \"Prev Marketcap\"]]\n",
    "    set_dic[\"Y_train_\"+currency] = set_dic[\"train_\"+currency][\"Close\"]\n",
    "    set_dic[\"Y_test_\"+currency] = set_dic[\"val_\"+currency][\"Close\"]"
=======
    "train_btc, val_btc = train_test_split(\n",
    "    df_btc[[\"date\", \"Prev High\", \"Prev Low\", \"open\", \"Prev Marketcap\", \"Close\"]], \n",
    "    test_size=0.33, random_state=1234)\n",
    "X_train_btc = train_btc[[\"date\", \"Prev High\", \"Prev Low\", \"open\", \"Prev Marketcap\"]]\n",
    "X_test_btc = val_btc[[\"date\", \"Prev High\", \"Prev Low\", \"open\", \"Prev Marketcap\"]]\n",
    "Y_train_btc = train_btc[\"Close\"]\n",
    "Y_test_btc = val_btc[\"Close\"]\n",
    "\n",
    "train_xrp, val_xrp = train_test_split(\n",
    "    df_xrp[[\"date\", \"Prev High\", \"Prev Low\", \"open\", \"Prev Marketcap\", \"Close\"]], \n",
    "    test_size=0.33, random_state=1234)\n",
    "X_train_xrp = train_xrp[[\"date\", \"Prev High\", \"Prev Low\", \"open\", \"Prev Marketcap\"]]\n",
    "X_test_xrp = val_xrp[[\"date\", \"Prev High\", \"Prev Low\", \"open\", \"Prev Marketcap\"]]\n",
    "Y_train_xrp = train_xrp[\"Close\"]\n",
    "Y_test_xrp = val_xrp[\"Close\"]"
>>>>>>> e71c78cc7bf2bd5c390f9642792e53c9775e48b7
   ]
  },
  {
   "cell_type": "code",
<<<<<<< HEAD
   "execution_count": 21,
=======
   "execution_count": 72,
>>>>>>> e71c78cc7bf2bd5c390f9642792e53c9775e48b7
   "id": "1316fd07",
   "metadata": {},
   "outputs": [
    {
     "name": "stdout",
     "output_type": "stream",
     "text": [
<<<<<<< HEAD
      "RMSE BTC: 292.3605500168556\n",
      "RMSE XRP: 0.0251012486948646\n"
=======
      "RMSE BTC: 11.097708184905635\n",
      "RMSE XRP: 0.0019308521474138089\n"
>>>>>>> e71c78cc7bf2bd5c390f9642792e53c9775e48b7
     ]
    }
   ],
   "source": [
    "# Basic linear regression seems to have lower RMSE which is interesting and unexpected\n",
    "# Not using accuracy as a performance measure because I am predicting a continuous variable\n",
<<<<<<< HEAD
    "model_dic = {}\n",
    "for currency in currencies_of_interest:\n",
    "    model_dic[currency] = LinearRegression()\n",
    "    model_dic[\"reg_\"+currency] = model_dic[currency].fit(set_dic[\"X_train_\"+currency], set_dic[\"Y_train_\"+currency])\n",
    "    y_pred_btc = model_dic[\"reg_\"+currency].predict(set_dic[\"X_test_\"+currency])\n",
    "    print(\"RMSE \" + currency + \": \" + str(mean_squared_error(set_dic[\"Y_test_\"+currency], y_pred_btc) ** 0.5))"
=======
    "model_btc = LinearRegression()\n",
    "reg_btc = model_btc.fit(X_train_btc, Y_train_btc)\n",
    "y_pred_btc = reg_btc.predict(X_test_btc)\n",
    "print(\"RMSE BTC: \" + str(mean_squared_error(Y_test_btc, y_pred_btc) ** 0.5))\n",
    "\n",
    "model_xrp = LinearRegression()\n",
    "reg_xrp = model_xrp.fit(X_train_xrp, Y_train_xrp)\n",
    "y_pred_xrp = reg_xrp.predict(X_test_xrp)\n",
    "print(\"RMSE XRP: \" + str(mean_squared_error(Y_test_xrp, y_pred_xrp) ** 0.5))"
>>>>>>> e71c78cc7bf2bd5c390f9642792e53c9775e48b7
   ]
  },
  {
   "cell_type": "code",
<<<<<<< HEAD
   "execution_count": 22,
=======
   "execution_count": 84,
>>>>>>> e71c78cc7bf2bd5c390f9642792e53c9775e48b7
   "id": "d561e869",
   "metadata": {},
   "outputs": [
    {
     "name": "stdout",
     "output_type": "stream",
     "text": [
<<<<<<< HEAD
      "Profit: 6472048.407635627\n"
=======
      "Profit: 8414005.413680386\n"
>>>>>>> e71c78cc7bf2bd5c390f9642792e53c9775e48b7
     ]
    }
   ],
   "source": [
<<<<<<< HEAD
    "starting_balances = {}\n",
    "crypto_usd_fx = {}\n",
    "starting_indicators = {}\n",
    "predictions = {}\n",
    "counter = 0\n",
    "\n",
    "for currency in currencies_of_interest:\n",
    "    starting_balances[currency] = starting_balances_list[counter]\n",
    "    crypto_usd_fx[currency] = crypto_usd_fx_list[counter]\n",
    "    counter += 1\n",
    "    \n",
    "    starting_indicators[currency] = curr_dic[currency].iloc[0,:][[\"date\", \"Prev High\", \"Prev Low\", \"open\", \"Prev Marketcap\"]].to_frame().T\n",
    "    predictions[currency] = model_dic[\"reg_\"+currency].predict(starting_indicators[currency])\n",
    "    \n",
    "revenue = sum([crypto_usd_fx[currency]*predictions[currency] for currency in currencies_of_interest])\n",
    "cost = sum([crypto_usd_fx[currency]*starting_balances[currency] for currency in currencies_of_interest])\n",
    "profit = revenue - cost\n",
    "print(\"Profit: \" + str(profit[0]))\n",
    "\n",
    "counter = 0"
   ]
=======
    "starting_btc = 5\n",
    "starting_xrp = 20\n",
    "btc_usd_fx = 65000\n",
    "xrp_usd_fx = 1.1\n",
    "\n",
    "starting_btc_indicators = df_btc.iloc[0,:][[\"date\", \"Prev High\", \"Prev Low\", \"open\", \"Prev Marketcap\"]].to_frame().T\n",
    "starting_xrp_indicators = df_xrp.iloc[0,:][[\"date\", \"Prev High\", \"Prev Low\", \"open\", \"Prev Marketcap\"]].to_frame().T\n",
    "\n",
    "sample_btc_pred = reg_btc.predict(starting_btc_indicators)\n",
    "sample_xrp_pred = reg_xrp.predict(starting_xrp_indicators)\n",
    "\n",
    "revenue = (sample_btc_pred * btc_usd_fx) + (sample_xrp_pred * xrp_usd_fx)\n",
    "cost = (starting_btc * btc_usd_fx) + (starting_xrp * xrp_usd_fx)\n",
    "profit = revenue - cost\n",
    "print(\"Profit: \" + str(profit[0]))\n"
   ]
  },
  {
   "cell_type": "code",
   "execution_count": null,
   "id": "132ffde0",
   "metadata": {},
   "outputs": [],
   "source": []
>>>>>>> e71c78cc7bf2bd5c390f9642792e53c9775e48b7
  }
 ],
 "metadata": {
  "kernelspec": {
   "display_name": "Python 3 (ipykernel)",
   "language": "python",
   "name": "python3"
  },
  "language_info": {
   "codemirror_mode": {
    "name": "ipython",
    "version": 3
   },
   "file_extension": ".py",
   "mimetype": "text/x-python",
   "name": "python",
   "nbconvert_exporter": "python",
   "pygments_lexer": "ipython3",
   "version": "3.8.5"
  }
 },
 "nbformat": 4,
 "nbformat_minor": 5
}
